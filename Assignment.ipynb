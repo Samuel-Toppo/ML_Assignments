{
 "cells": [
  {
   "cell_type": "code",
   "execution_count": null,
   "id": "43d900c4",
   "metadata": {},
   "outputs": [
    {
     "name": "stdout",
     "output_type": "stream",
     "text": [
      "1\n",
      "2\n",
      "3\n",
      "4\n",
      "5\n",
      "6\n",
      "7\n",
      "8\n",
      "9\n",
      "10\n"
     ]
    }
   ],
   "source": [
    "#print nos. from 1 to 10\n",
    "for i in range(1, 11):\n",
    "    print(i)"
   ]
  },
  {
   "cell_type": "code",
   "execution_count": null,
   "id": "ab516a94",
   "metadata": {},
   "outputs": [
    {
     "name": "stdout",
     "output_type": "stream",
     "text": [
      "0\n",
      "2\n",
      "4\n",
      "6\n",
      "8\n",
      "10\n",
      "12\n",
      "14\n",
      "16\n",
      "18\n",
      "20\n"
     ]
    }
   ],
   "source": [
    "#print even nos. from 1 to 20\n",
    "for i in range(0, 21, 2):\n",
    "    print(i)"
   ]
  },
  {
   "cell_type": "code",
   "execution_count": null,
   "id": "f18f8d41",
   "metadata": {},
   "outputs": [
    {
     "name": "stdout",
     "output_type": "stream",
     "text": [
      "the no. is +ve\n"
     ]
    }
   ],
   "source": [
    "#check if a no. is +ve, -ve or zero\n",
    "num = float(input(\"enter a no. \"))\n",
    "if num > 0:\n",
    "    print(\"the no. is +ve\")\n",
    "elif num < 0:\n",
    "    print(\"the no. is -ve\")\n",
    "else:\n",
    "    print(\"the no. is zero\")"
   ]
  },
  {
   "cell_type": "code",
   "execution_count": null,
   "id": "194ff309",
   "metadata": {},
   "outputs": [
    {
     "name": "stdout",
     "output_type": "stream",
     "text": [
      "the sum is: 5.0\n"
     ]
    }
   ],
   "source": [
    "#add two nos. using operators\n",
    "num1 = float(input(\"enter first no. \"))\n",
    "num2 = float(input(\"enter second no. \"))\n",
    "sum = num1 + num2\n",
    "print(\"the sum is:\", sum)"
   ]
  },
  {
   "cell_type": "code",
   "execution_count": null,
   "id": "bba5f792",
   "metadata": {},
   "outputs": [],
   "source": [
    "#print multiplcation table of a no.\n"
   ]
  }
 ],
 "metadata": {
  "kernelspec": {
   "display_name": "Python 3",
   "language": "python",
   "name": "python3"
  },
  "language_info": {
   "codemirror_mode": {
    "name": "ipython",
    "version": 3
   },
   "file_extension": ".py",
   "mimetype": "text/x-python",
   "name": "python",
   "nbconvert_exporter": "python",
   "pygments_lexer": "ipython3",
   "version": "3.13.3"
  }
 },
 "nbformat": 4,
 "nbformat_minor": 5
}
