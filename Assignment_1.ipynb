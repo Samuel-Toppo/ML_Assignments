{
 "cells": [
  {
   "cell_type": "code",
   "execution_count": null,
   "id": "43d900c4",
   "metadata": {},
   "outputs": [
    {
     "name": "stdout",
     "output_type": "stream",
     "text": [
      "1\n",
      "2\n",
      "3\n",
      "4\n",
      "5\n",
      "6\n",
      "7\n",
      "8\n",
      "9\n",
      "10\n"
     ]
    }
   ],
   "source": [
    "# Print numbers from 1 to 10\n",
    "for i in range(1, 11):\n",
    "    print(i)"
   ]
  },
  {
   "cell_type": "code",
   "execution_count": null,
   "id": "ab516a94",
   "metadata": {},
   "outputs": [
    {
     "name": "stdout",
     "output_type": "stream",
     "text": [
      "0\n",
      "2\n",
      "4\n",
      "6\n",
      "8\n",
      "10\n",
      "12\n",
      "14\n",
      "16\n",
      "18\n",
      "20\n"
     ]
    }
   ],
   "source": [
    "# Print even numbers from 1 to 20\n",
    "for i in range(0, 21, 2):\n",
    "    print(i)"
   ]
  },
  {
   "cell_type": "code",
   "execution_count": null,
   "id": "f18f8d41",
   "metadata": {},
   "outputs": [
    {
     "name": "stdout",
     "output_type": "stream",
     "text": [
      "the no. is +ve\n"
     ]
    }
   ],
   "source": [
    "# Check if a number is positive, negative or zero\n",
    "num = float(input(\"enter a no. \"))\n",
    "if num > 0:\n",
    "    print(\"the no. is +ve\")\n",
    "elif num < 0:\n",
    "    print(\"the no. is -ve\")\n",
    "else:\n",
    "    print(\"the no. is zero\")"
   ]
  },
  {
   "cell_type": "code",
   "execution_count": null,
   "id": "194ff309",
   "metadata": {},
   "outputs": [
    {
     "name": "stdout",
     "output_type": "stream",
     "text": [
      "the sum is: 5.0\n"
     ]
    }
   ],
   "source": [
    "# Add two numbers using operators\n",
    "num1 = float(input(\"enter first no. \"))\n",
    "num2 = float(input(\"enter second no. \"))\n",
    "sum = num1 + num2\n",
    "print(\"the sum is:\", sum)"
   ]
  },
  {
   "cell_type": "code",
   "execution_count": null,
   "id": "bba5f792",
   "metadata": {},
   "outputs": [
    {
     "name": "stdout",
     "output_type": "stream",
     "text": [
      "Multiplication Table for 2:\n",
      "2 x 1 = 2\n",
      "2 x 2 = 4\n",
      "2 x 3 = 6\n",
      "2 x 4 = 8\n",
      "2 x 5 = 10\n",
      "2 x 6 = 12\n",
      "2 x 7 = 14\n",
      "2 x 8 = 16\n",
      "2 x 9 = 18\n",
      "2 x 10 = 20\n"
     ]
    }
   ],
   "source": [
    "# Print multiplication table of a number\n",
    "num = int(input(\"Enter a number to print its multiplication table: \"))\n",
    "print(f\"Multiplication Table for {num}:\")\n",
    "for i in range(1, 11):\n",
    "    print(f\"{num} x {i} = {num * i}\")\n"
   ]
  },
  {
   "cell_type": "code",
   "execution_count": 5,
   "id": "c5dee9c6",
   "metadata": {},
   "outputs": [
    {
     "name": "stdout",
     "output_type": "stream",
     "text": [
      "The largest number is: 2.0\n"
     ]
    }
   ],
   "source": [
    "# Find the largest among two numbers\n",
    "a = float(input(\"Enter the first number: \"))\n",
    "b = float(input(\"Enter the second number: \"))\n",
    "if a > b:\n",
    "    print(f\"The largest number is: {a}\")\n",
    "elif b > a:\n",
    "    print(f\"The largest number is: {b}\")\n",
    "else:\n",
    "    print(\"Both numbers are equal.\")"
   ]
  },
  {
   "cell_type": "code",
   "execution_count": null,
   "id": "37d6dec4",
   "metadata": {},
   "outputs": [
    {
     "name": "stdout",
     "output_type": "stream",
     "text": [
      "5\n",
      "4\n",
      "3\n",
      "2\n",
      "1\n"
     ]
    }
   ],
   "source": [
    "# Use a while loop to print numbers 5 to 1\n",
    "num = 5\n",
    "while num >= 1:\n",
    "    print(num)\n",
    "    num -= 1"
   ]
  },
  {
   "cell_type": "code",
   "execution_count": 6,
   "id": "9ef36381",
   "metadata": {},
   "outputs": [
    {
     "name": "stdout",
     "output_type": "stream",
     "text": [
      "Characters in the string:\n",
      "f\n",
      "a\n",
      "f\n",
      "a\n",
      "f\n"
     ]
    }
   ],
   "source": [
    "# Print all characters in a string\n",
    "text = input(\"Enter a string: \")\n",
    "print(\"Characters in the string:\")\n",
    "for char in text:\n",
    "    print(char)"
   ]
  },
  {
   "cell_type": "code",
   "execution_count": 44,
   "id": "d17f360b",
   "metadata": {},
   "outputs": [
    {
     "name": "stdout",
     "output_type": "stream",
     "text": [
      "The number is NOT between 10 and 50.\n"
     ]
    }
   ],
   "source": [
    "# Use logical operator to check if a number is between 10 and 50\n",
    "num = int(input(\"Enter a number: \"))\n",
    "if num >= 10 and num <= 50:\n",
    "    print(\"The number is between 10 and 50.\")\n",
    "else:\n",
    "    print(\"The number is NOT between 10 and 50.\")"
   ]
  },
  {
   "cell_type": "code",
   "execution_count": 43,
   "id": "f643faa3",
   "metadata": {},
   "outputs": [
    {
     "name": "stdout",
     "output_type": "stream",
     "text": [
      "Sum of first 10 natural numbers is: 55\n"
     ]
    }
   ],
   "source": [
    "# Sum of first 10 natural numbers\n",
    "total = 0\n",
    "for i in range(1, 11):\n",
    "    total += i\n",
    "print(\"Sum of first 10 natural numbers is:\", total)"
   ]
  },
  {
   "cell_type": "code",
   "execution_count": 42,
   "id": "648e1cfc",
   "metadata": {},
   "outputs": [
    {
     "name": "stdout",
     "output_type": "stream",
     "text": [
      "1 is Odd\n",
      "2 is Even\n",
      "3 is Odd\n",
      "4 is Even\n",
      "5 is Odd\n",
      "6 is Even\n",
      "7 is Odd\n",
      "8 is Even\n",
      "9 is Odd\n",
      "10 is Even\n"
     ]
    }
   ],
   "source": [
    "# Print \"Odd\" or \"Even\" for numbers 1 to 10\n",
    "for num in range(1, 11):\n",
    "    if num % 2 == 0:\n",
    "        print(f\"{num} is Even\")\n",
    "    else:\n",
    "        print(f\"{num} is Odd\")"
   ]
  },
  {
   "cell_type": "code",
   "execution_count": 41,
   "id": "fffe33af",
   "metadata": {},
   "outputs": [
    {
     "name": "stdout",
     "output_type": "stream",
     "text": [
      "1\n",
      "2\n",
      "3\n",
      "4\n",
      "Number is 5, stopping the loop.\n"
     ]
    }
   ],
   "source": [
    "# Use “break” to stop loop when number is 5\n",
    "for num in range(1, 11):\n",
    "    if num == 5:\n",
    "        print(\"Number is 5, stopping the loop.\")\n",
    "        break\n",
    "    print(num)"
   ]
  },
  {
   "cell_type": "code",
   "execution_count": 7,
   "id": "a7fd26ce",
   "metadata": {},
   "outputs": [
    {
     "name": "stdout",
     "output_type": "stream",
     "text": [
      "1\n",
      "2\n",
      "3\n",
      "4\n",
      "6\n",
      "7\n",
      "8\n",
      "9\n",
      "10\n"
     ]
    }
   ],
   "source": [
    "# Print 1 to 10 and use continue to skip printing 5\n",
    "for num in range(1, 11):\n",
    "    if num == 5:\n",
    "        continue\n",
    "    print(num)"
   ]
  },
  {
   "cell_type": "code",
   "execution_count": 40,
   "id": "bc2a167b",
   "metadata": {},
   "outputs": [
    {
     "name": "stdout",
     "output_type": "stream",
     "text": [
      "Elements in the list:\n",
      "10\n",
      "20\n",
      "30\n",
      "40\n",
      "50\n"
     ]
    }
   ],
   "source": [
    "# Print all elements in a list using a loop\n",
    "my_list = [10, 20, 30, 40, 50]\n",
    "print(\"Elements in the list:\")\n",
    "for item in my_list:\n",
    "    print(item)"
   ]
  },
  {
   "cell_type": "code",
   "execution_count": 8,
   "id": "a247b1f8",
   "metadata": {},
   "outputs": [
    {
     "name": "stdout",
     "output_type": "stream",
     "text": [
      "4 is NOT divisible by both 3 and 5.\n"
     ]
    }
   ],
   "source": [
    "# Check if a number is divisible by both 3 and 5\n",
    "num = int(input(\"Enter a number: \"))\n",
    "if num % 3 == 0 and num % 5 == 0:\n",
    "    print(f\"{num} is divisible by both 3 and 5.\")\n",
    "else:\n",
    "    print(f\"{num} is NOT divisible by both 3 and 5.\")"
   ]
  },
  {
   "cell_type": "code",
   "execution_count": 9,
   "id": "1c4afc58",
   "metadata": {},
   "outputs": [
    {
     "name": "stdout",
     "output_type": "stream",
     "text": [
      "Square of 1 is 1\n",
      "Square of 2 is 4\n",
      "Square of 3 is 9\n",
      "Square of 4 is 16\n",
      "Square of 5 is 25\n"
     ]
    }
   ],
   "source": [
    "# Square of all numbers from 1 to 5\n",
    "for num in range(1, 6):\n",
    "    print(f\"Square of {num} is {num ** 2}\")"
   ]
  },
  {
   "cell_type": "code",
   "execution_count": 10,
   "id": "4bc2881f",
   "metadata": {},
   "outputs": [
    {
     "name": "stdout",
     "output_type": "stream",
     "text": [
      "ASCII values of characters:\n",
      "'3': 51\n",
      "'4': 52\n"
     ]
    }
   ],
   "source": [
    "# Print ASCII values of characters in a string\n",
    "text = input(\"Enter a string: \")\n",
    "print(\"ASCII values of characters:\")\n",
    "for char in text:\n",
    "    print(f\"'{char}': {ord(char)}\")"
   ]
  },
  {
   "cell_type": "code",
   "execution_count": 11,
   "id": "51a35cab",
   "metadata": {},
   "outputs": [
    {
     "name": "stdout",
     "output_type": "stream",
     "text": [
      "10\n",
      "9\n",
      "8\n",
      "7\n",
      "6\n",
      "5\n",
      "4\n",
      "3\n",
      "2\n",
      "1\n"
     ]
    }
   ],
   "source": [
    "# Count down from 10 to 1 using while\n",
    "num = 10\n",
    "while num >= 1:\n",
    "    print(num)\n",
    "    num -= 1"
   ]
  },
  {
   "cell_type": "code",
   "execution_count": 39,
   "id": "f16eeea5",
   "metadata": {},
   "outputs": [
    {
     "name": "stdout",
     "output_type": "stream",
     "text": [
      "4 is divisible by 2 or 3.\n"
     ]
    }
   ],
   "source": [
    "# Check if a number is divisible by 2 or 3\n",
    "num = int(input(\"Enter a number: \"))\n",
    "if num % 2 == 0 or num % 3 == 0:\n",
    "    print(f\"{num} is divisible by 2 or 3.\")\n",
    "else:\n",
    "    print(f\"{num} is NOT divisible by 2 or 3.\")"
   ]
  },
  {
   "cell_type": "code",
   "execution_count": 38,
   "id": "643aab24",
   "metadata": {},
   "outputs": [
    {
     "name": "stdout",
     "output_type": "stream",
     "text": [
      "Sum of digits of 59 is: 14\n"
     ]
    }
   ],
   "source": [
    "# Print sum of digits of a number\n",
    "num = input(\"Enter a number: \")\n",
    "total = 0\n",
    "for digit in num:\n",
    "    if digit.isdigit():\n",
    "        total += int(digit)\n",
    "print(f\"Sum of digits of {num} is: {total}\")"
   ]
  },
  {
   "cell_type": "code",
   "execution_count": 32,
   "id": "fa969083",
   "metadata": {},
   "outputs": [
    {
     "name": "stdout",
     "output_type": "stream",
     "text": [
      "Before swapping: a = 2, b = 5\n",
      "After swapping: a = 5, b = 2\n"
     ]
    }
   ],
   "source": [
    "# Swap two numbers using a temporary variable\n",
    "a = int(input(\"Enter first number (a): \"))\n",
    "b = int(input(\"Enter second number (b): \"))\n",
    "print(f\"Before swapping: a = {a}, b = {b}\")\n",
    "temp = a\n",
    "a = b\n",
    "b = temp\n",
    "print(f\"After swapping: a = {a}, b = {b}\")"
   ]
  },
  {
   "cell_type": "code",
   "execution_count": 12,
   "id": "20ac4a58",
   "metadata": {},
   "outputs": [
    {
     "name": "stdout",
     "output_type": "stream",
     "text": [
      "7\n",
      "14\n",
      "21\n",
      "28\n",
      "35\n",
      "42\n",
      "49\n",
      "56\n",
      "63\n",
      "70\n",
      "77\n",
      "84\n",
      "91\n",
      "98\n"
     ]
    }
   ],
   "source": [
    "# Print numbers from 1 to 100 that are divisible by 7\n",
    "for num in range(1, 101):\n",
    "    if num % 7 == 0:\n",
    "        print(num)"
   ]
  },
  {
   "cell_type": "code",
   "execution_count": 31,
   "id": "cb1c4b29",
   "metadata": {},
   "outputs": [
    {
     "name": "stdout",
     "output_type": "stream",
     "text": [
      "The factorial of 5 is 120\n"
     ]
    }
   ],
   "source": [
    "# Find the factorial of a number\n",
    "def factorial(n):\n",
    "    if n < 0:\n",
    "        return \"Factorial is not defined for negative numbers.\"\n",
    "    elif n == 0 or n == 1:\n",
    "        return 1\n",
    "    else:\n",
    "        result = 1\n",
    "        for i in range(2, n+1):\n",
    "            result *= i\n",
    "        return result\n",
    "num = 5\n",
    "print(f\"The factorial of {num} is {factorial(num)}\")"
   ]
  },
  {
   "cell_type": "code",
   "execution_count": null,
   "id": "e368b108",
   "metadata": {},
   "outputs": [
    {
     "name": "stdout",
     "output_type": "stream",
     "text": [
      "Number of vowels: 10\n"
     ]
    }
   ],
   "source": [
    "# Count vowels in a string\n",
    "def count_vowels(s):\n",
    "    vowels = \"aeiouAEIOU\"\n",
    "    count = 0\n",
    "    for char in s:\n",
    "        if char in vowels:\n",
    "            count += 1\n",
    "    return count\n",
    "text = \"Hello, how many vowels are here?\"\n",
    "print(f\"Number of vowels: {count_vowels(text)}\")"
   ]
  },
  {
   "cell_type": "code",
   "execution_count": null,
   "id": "f4f29a36",
   "metadata": {},
   "outputs": [
    {
     "name": "stdout",
     "output_type": "stream",
     "text": [
      "Reversed number: 54321\n"
     ]
    }
   ],
   "source": [
    "# Reverse a number using loop\n",
    "def reverse_number(num):\n",
    "    reversed_num = 0\n",
    "    while num > 0:\n",
    "        digit = num % 10    \n",
    "        reversed_num = reversed_num * 10 + digit\n",
    "        num = num // 10\n",
    "    return reversed_num\n",
    "number = 12345\n",
    "print(f\"Reversed number: {reverse_number(number)}\")"
   ]
  },
  {
   "cell_type": "code",
   "execution_count": 30,
   "id": "c181ad3a",
   "metadata": {},
   "outputs": [
    {
     "name": "stdout",
     "output_type": "stream",
     "text": [
      "The maximum number is: 9\n"
     ]
    }
   ],
   "source": [
    "# Find the maximum in a list using loop\n",
    "def find_max(lst):\n",
    "    if not lst:\n",
    "        return None\n",
    "    max_value = lst[0]\n",
    "    for num in lst:\n",
    "        if num > max_value:\n",
    "            max_value = num\n",
    "    return max_value\n",
    "numbers = [3, 7, 2, 9, 5]\n",
    "print(f\"The maximum number is: {find_max(numbers)}\")"
   ]
  },
  {
   "cell_type": "code",
   "execution_count": 16,
   "id": "82946dd6",
   "metadata": {},
   "outputs": [
    {
     "name": "stdout",
     "output_type": "stream",
     "text": [
      "29 is prime? True\n"
     ]
    }
   ],
   "source": [
    "# Prime number check using loop\n",
    "def is_prime(n):\n",
    "    if n <= 1:\n",
    "        return False\n",
    "    for i in range(2, int(n**0.5) + 1):\n",
    "        if n % i == 0:\n",
    "            return False\n",
    "    return True\n",
    "number = 29\n",
    "print(f\"{number} is prime? {is_prime(number)}\")"
   ]
  },
  {
   "cell_type": "code",
   "execution_count": 17,
   "id": "9be41b62",
   "metadata": {},
   "outputs": [
    {
     "name": "stdout",
     "output_type": "stream",
     "text": [
      "Sum of even numbers: 12\n"
     ]
    }
   ],
   "source": [
    "# Sum of even numbers in a list\n",
    "def sum_even_numbers(lst):\n",
    "    total = 0\n",
    "    for num in lst:\n",
    "        if num % 2 == 0:\n",
    "            total += num\n",
    "    return total\n",
    "numbers = [1, 2, 3, 4, 5, 6]\n",
    "print(f\"Sum of even numbers: {sum_even_numbers(numbers)}\")"
   ]
  },
  {
   "cell_type": "code",
   "execution_count": 29,
   "id": "f66e32b6",
   "metadata": {},
   "outputs": [
    {
     "name": "stdout",
     "output_type": "stream",
     "text": [
      "1 \n",
      "1 2 \n",
      "1 2 3 \n",
      "1 2 3 4 \n",
      "1 2 3 4 5 \n"
     ]
    }
   ],
   "source": [
    "# Print number pattern using nested loops\n",
    "def print_number_pattern(rows):\n",
    "    for i in range(1, rows + 1):\n",
    "        for j in range(1, i + 1):\n",
    "            print(j, end=' ')\n",
    "        print()\n",
    "print_number_pattern(5)"
   ]
  },
  {
   "cell_type": "code",
   "execution_count": 18,
   "id": "75663a41",
   "metadata": {},
   "outputs": [
    {
     "name": "stdout",
     "output_type": "stream",
     "text": [
      "Digit frequency: {'1': 2, '2': 2, '3': 2, '4': 2, '5': 2}\n"
     ]
    }
   ],
   "source": [
    "# Count frequency of digits in a number\n",
    "def digit_frequency(num):\n",
    "    freq = {str(d): 0 for d in range(10)}\n",
    "    for digit in str(num):\n",
    "        freq[digit] += 1\n",
    "    freq = {k: v for k, v in freq.items() if v > 0}\n",
    "    return freq\n",
    "number = 1122334455\n",
    "print(f\"Digit frequency: {digit_frequency(number)}\")"
   ]
  },
  {
   "cell_type": "code",
   "execution_count": 19,
   "id": "d75afbec",
   "metadata": {},
   "outputs": [
    {
     "name": "stdout",
     "output_type": "stream",
     "text": [
      "GCD of 36 and 48 is 12\n"
     ]
    }
   ],
   "source": [
    "# GCD of two numbers using loop\n",
    "def gcd(a, b):\n",
    "    a, b = abs(a), abs(b)\n",
    "    gcd_value = 1\n",
    "    for i in range(1, min(a, b) + 1):\n",
    "        if a % i == 0 and b % i == 0:\n",
    "            gcd_value = i\n",
    "    return gcd_value\n",
    "num1 = 36\n",
    "num2 = 48\n",
    "print(f\"GCD of {num1} and {num2} is {gcd(num1, num2)}\")"
   ]
  },
  {
   "cell_type": "code",
   "execution_count": 20,
   "id": "968a7aaa",
   "metadata": {},
   "outputs": [
    {
     "name": "stdout",
     "output_type": "stream",
     "text": [
      "12321 is palindrome? True\n"
     ]
    }
   ],
   "source": [
    "# Check if a number is a palindrome\n",
    "def is_palindrome(num):\n",
    "    original_num = num\n",
    "    reversed_num = 0\n",
    "    while num > 0:\n",
    "        digit = num % 10\n",
    "        reversed_num = reversed_num * 10 + digit\n",
    "        num //= 10\n",
    "    return original_num == reversed_num\n",
    "number = 12321\n",
    "print(f\"{number} is palindrome? {is_palindrome(number)}\")"
   ]
  },
  {
   "cell_type": "code",
   "execution_count": 21,
   "id": "65bdadb7",
   "metadata": {},
   "outputs": [
    {
     "name": "stdout",
     "output_type": "stream",
     "text": [
      "Number of words: 9\n"
     ]
    }
   ],
   "source": [
    "# Count words in a sentence\n",
    "def count_words(sentence):\n",
    "    words = sentence.split()\n",
    "    return len(words)\n",
    "text = \"Hello there! How many words are in this sentence?\"\n",
    "print(f\"Number of words: {count_words(text)}\")"
   ]
  },
  {
   "cell_type": "code",
   "execution_count": 28,
   "id": "e1a9d6b7",
   "metadata": {},
   "outputs": [
    {
     "name": "stdout",
     "output_type": "stream",
     "text": [
      "Common elements: [3, 4, 5]\n"
     ]
    }
   ],
   "source": [
    "# Find common elements in two lists\n",
    "def common_elements(list1, list2):\n",
    "    common = []\n",
    "    for elem in list1:\n",
    "        if elem in list2 and elem not in common:\n",
    "            common.append(elem)\n",
    "    return common\n",
    "list_a = [1, 2, 3, 4, 5]\n",
    "list_b = [3, 4, 5, 6, 7]\n",
    "print(f\"Common elements: {common_elements(list_a, list_b)}\")"
   ]
  },
  {
   "cell_type": "code",
   "execution_count": 22,
   "id": "35557c1f",
   "metadata": {},
   "outputs": [
    {
     "name": "stdout",
     "output_type": "stream",
     "text": [
      "Score: 85 => Grade: B\n"
     ]
    }
   ],
   "source": [
    "# Use elif to grade students based on score\n",
    "def grade_student(score):\n",
    "    if score >= 90:\n",
    "        return 'A'\n",
    "    elif score >= 80:\n",
    "        return 'B'\n",
    "    elif score >= 70:\n",
    "        return 'C'\n",
    "    elif score >= 60:\n",
    "        return 'D'\n",
    "    else:\n",
    "        return 'F'\n",
    "score = 85\n",
    "print(f\"Score: {score} => Grade: {grade_student(score)}\")"
   ]
  },
  {
   "cell_type": "code",
   "execution_count": 23,
   "id": "d70736c0",
   "metadata": {},
   "outputs": [
    {
     "name": "stdout",
     "output_type": "stream",
     "text": [
      "*\n",
      "**\n",
      "***\n",
      "****\n",
      "*****\n"
     ]
    }
   ],
   "source": [
    "# Print a right-angled triangle using *\n",
    "def print_triangle(rows):\n",
    "    for i in range(1, rows + 1):\n",
    "        print('*' * i)\n",
    "print_triangle(5)"
   ]
  },
  {
   "cell_type": "code",
   "execution_count": 24,
   "id": "65472c59",
   "metadata": {},
   "outputs": [
    {
     "name": "stdout",
     "output_type": "stream",
     "text": [
      "2024 is a leap year? True\n"
     ]
    }
   ],
   "source": [
    "# Check if a year is a leap year\n",
    "def is_leap_year(year):\n",
    "    if (year % 400 == 0):\n",
    "        return True\n",
    "    elif (year % 100 == 0):\n",
    "        return False\n",
    "    elif (year % 4 == 0):\n",
    "        return True\n",
    "    else:\n",
    "        return False\n",
    "year = 2024\n",
    "print(f\"{year} is a leap year? {is_leap_year(year)}\")"
   ]
  },
  {
   "cell_type": "code",
   "execution_count": 25,
   "id": "5a767d1e",
   "metadata": {},
   "outputs": [
    {
     "name": "stdout",
     "output_type": "stream",
     "text": [
      "0 1 1 2 3 5 8 13 21 34 \n"
     ]
    }
   ],
   "source": [
    "# Print Fibonacci series using loop\n",
    "def fibonacci_series(n):\n",
    "    a, b = 0, 1\n",
    "    for _ in range(n):\n",
    "        print(a, end=' ')\n",
    "        a, b = b, a + b\n",
    "    print()\n",
    "fibonacci_series(10)"
   ]
  },
  {
   "cell_type": "code",
   "execution_count": 26,
   "id": "d2b15c24",
   "metadata": {},
   "outputs": [
    {
     "name": "stdout",
     "output_type": "stream",
     "text": [
      "Uppercase letters: 8\n",
      "Lowercase letters: 15\n"
     ]
    }
   ],
   "source": [
    "# Count uppercase and lowercase letters in a string\n",
    "def count_case_letters(s):\n",
    "    uppercase = 0\n",
    "    lowercase = 0\n",
    "    for char in s:\n",
    "        if char.isupper():\n",
    "            uppercase += 1\n",
    "        elif char.islower():\n",
    "            lowercase += 1\n",
    "    return uppercase, lowercase\n",
    "text = \"Hello World! This Is ChatGPT.\"\n",
    "upper, lower = count_case_letters(text)\n",
    "print(f\"Uppercase letters: {upper}\")\n",
    "print(f\"Lowercase letters: {lower}\")"
   ]
  },
  {
   "cell_type": "code",
   "execution_count": 27,
   "id": "565d1bdb",
   "metadata": {},
   "outputs": [
    {
     "name": "stdout",
     "output_type": "stream",
     "text": [
      "100\n",
      "99\n",
      "98\n",
      "97\n",
      "96\n",
      "95\n",
      "94\n",
      "93\n",
      "92\n",
      "91\n",
      "90\n",
      "89\n",
      "88\n",
      "87\n",
      "86\n",
      "85\n",
      "84\n",
      "83\n",
      "82\n",
      "81\n",
      "80\n",
      "79\n",
      "78\n",
      "77\n",
      "76\n",
      "75\n",
      "74\n",
      "73\n",
      "72\n",
      "71\n",
      "70\n",
      "69\n",
      "68\n",
      "67\n",
      "66\n",
      "65\n",
      "64\n",
      "63\n",
      "62\n",
      "61\n",
      "60\n",
      "59\n",
      "58\n",
      "57\n",
      "56\n",
      "55\n",
      "54\n",
      "53\n",
      "52\n",
      "51\n",
      "50\n",
      "49\n",
      "48\n",
      "47\n",
      "46\n",
      "45\n",
      "44\n",
      "43\n",
      "42\n",
      "41\n",
      "40\n",
      "39\n",
      "38\n",
      "37\n",
      "36\n",
      "35\n",
      "34\n",
      "33\n",
      "32\n",
      "31\n",
      "30\n",
      "29\n",
      "28\n",
      "27\n",
      "26\n",
      "25\n",
      "24\n",
      "23\n",
      "22\n",
      "21\n",
      "20\n",
      "19\n",
      "18\n",
      "17\n",
      "16\n",
      "15\n",
      "14\n",
      "13\n",
      "12\n",
      "11\n",
      "10\n",
      "9\n",
      "8\n",
      "7\n",
      "6\n",
      "5\n",
      "4\n",
      "3\n",
      "2\n",
      "1\n"
     ]
    }
   ],
   "source": [
    "# Print numbers from 100 to 1 using loop\n",
    "for num in range(100, 0, -1):\n",
    "    print(num)"
   ]
  }
 ],
 "metadata": {
  "kernelspec": {
   "display_name": "Python 3",
   "language": "python",
   "name": "python3"
  },
  "language_info": {
   "codemirror_mode": {
    "name": "ipython",
    "version": 3
   },
   "file_extension": ".py",
   "mimetype": "text/x-python",
   "name": "python",
   "nbconvert_exporter": "python",
   "pygments_lexer": "ipython3",
   "version": "3.13.3"
  }
 },
 "nbformat": 4,
 "nbformat_minor": 5
}
