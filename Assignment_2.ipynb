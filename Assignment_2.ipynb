{
 "cells": [
  {
   "cell_type": "code",
   "execution_count": 3,
   "id": "435c802a",
   "metadata": {},
   "outputs": [
    {
     "name": "stdout",
     "output_type": "stream",
     "text": [
      "False\n"
     ]
    }
   ],
   "source": [
    "# Write a function to check if a number is prime\n",
    "def is_prime(n):\n",
    "    if n <= 1:\n",
    "        return False\n",
    "    if n <= 3:\n",
    "        return True\n",
    "    if n % 2 == 0 or n % 3 == 0:\n",
    "        return False\n",
    "    i = 5\n",
    "    while i * i <= n:\n",
    "        if n % i == 0 or n % (i + 2) == 0:\n",
    "            return False\n",
    "        i += 6\n",
    "    return True\n",
    "print(is_prime(100))"
   ]
  },
  {
   "cell_type": "code",
   "execution_count": 6,
   "id": "a2630bcf",
   "metadata": {},
   "outputs": [
    {
     "name": "stdout",
     "output_type": "stream",
     "text": [
      "15\n"
     ]
    }
   ],
   "source": [
    "# Create a function to calculate the area of a rectangle\n",
    "def rectangle_area(length, width):\n",
    "    return length * width\n",
    "print(rectangle_area(5, 3))"
   ]
  },
  {
   "cell_type": "code",
   "execution_count": 8,
   "id": "ea75bb10",
   "metadata": {},
   "outputs": [
    {
     "name": "stdout",
     "output_type": "stream",
     "text": [
      "25\n"
     ]
    }
   ],
   "source": [
    "# Create a function to find the maximum of three numbers\n",
    "def max_of_three(a, b, c):\n",
    "    return max(a, b, c)\n",
    "print(max_of_three(10, 25, 7))"
   ]
  },
  {
   "cell_type": "code",
   "execution_count": 9,
   "id": "03fe1b26",
   "metadata": {},
   "outputs": [
    {
     "name": "stdout",
     "output_type": "stream",
     "text": [
      "olleh\n"
     ]
    }
   ],
   "source": [
    "# Write a function to reverse a string\n",
    "def reverse_string(s):\n",
    "    return s[::-1]\n",
    "print(reverse_string(\"hello\"))"
   ]
  },
  {
   "cell_type": "code",
   "execution_count": 11,
   "id": "bdd9ee52",
   "metadata": {},
   "outputs": [
    {
     "name": "stdout",
     "output_type": "stream",
     "text": [
      "3\n"
     ]
    }
   ],
   "source": [
    "# Create a function to count the number of vowels in a string\n",
    "def count_vowels(s):\n",
    "    vowels = \"aeiouAEIOU\"\n",
    "    count = 0\n",
    "    for char in s:\n",
    "        if char in vowels:\n",
    "            count += 1\n",
    "    return count\n",
    "print(count_vowels(\"Hello, World!\"))"
   ]
  },
  {
   "cell_type": "code",
   "execution_count": 15,
   "id": "2520b40b",
   "metadata": {},
   "outputs": [
    {
     "name": "stdout",
     "output_type": "stream",
     "text": [
      "False\n",
      "True\n"
     ]
    }
   ],
   "source": [
    "# Write a function to check if a string is a palindrome\n",
    "def is_palindrome(s):\n",
    "    s = s.lower().replace(\" \", \"\")  # Normalize: lowercase and remove spaces\n",
    "    return s == s[::-1]\n",
    "print(is_palindrome(\"Hello\"))\n",
    "print(is_palindrome(\"WoW\"))"
   ]
  },
  {
   "cell_type": "code",
   "execution_count": 16,
   "id": "0a188ae9",
   "metadata": {},
   "outputs": [
    {
     "name": "stdout",
     "output_type": "stream",
     "text": [
      "15\n"
     ]
    }
   ],
   "source": [
    "# Create a function to calculate the sum of a list of numbers\n",
    "def sum_of_list(numbers):\n",
    "    return sum(numbers)\n",
    "print(sum_of_list([1, 2, 3, 4, 5]))"
   ]
  },
  {
   "cell_type": "code",
   "execution_count": 24,
   "id": "af87bdc4",
   "metadata": {},
   "outputs": [
    {
     "name": "stdout",
     "output_type": "stream",
     "text": [
      "[0, 1, 1, 2, 3]\n"
     ]
    }
   ],
   "source": [
    "# Write a function to return the Fibonacci sequence up to n terms\n",
    "def fibonacci_sequence(n):\n",
    "    if n <= 0:\n",
    "        return []\n",
    "    elif n == 1:\n",
    "        return [0]\n",
    "    elif n == 2:\n",
    "        return [0, 1]\n",
    "    \n",
    "    sequence = [0, 1]\n",
    "    for _ in range(2, n):\n",
    "        next_term = sequence[-1] + sequence[-2]\n",
    "        sequence.append(next_term)\n",
    "    return sequence\n",
    "print(fibonacci_sequence(5))"
   ]
  },
  {
   "cell_type": "code",
   "execution_count": 26,
   "id": "980b5dac",
   "metadata": {},
   "outputs": [
    {
     "name": "stdout",
     "output_type": "stream",
     "text": [
      "50.0\n"
     ]
    }
   ],
   "source": [
    "# Write a function to convert Celsius to Fahrenheit\n",
    "def celsius_to_fahrenheit(celsius):\n",
    "    return (celsius * 9/5) + 32\n",
    "print(celsius_to_fahrenheit(10))"
   ]
  },
  {
   "cell_type": "code",
   "execution_count": 27,
   "id": "53d0c79c",
   "metadata": {},
   "outputs": [
    {
     "name": "stdout",
     "output_type": "stream",
     "text": [
      "1\n"
     ]
    }
   ],
   "source": [
    "# Write a function to find the minimum value in a list\n",
    "def find_minimum(lst):\n",
    "    if not lst:\n",
    "        raise ValueError(\"List is empty.\")\n",
    "    return min(lst)\n",
    "print(find_minimum([4, 2, 9, 1, 7]))"
   ]
  },
  {
   "cell_type": "code",
   "execution_count": 28,
   "id": "020b2ef8",
   "metadata": {},
   "outputs": [
    {
     "name": "stdout",
     "output_type": "stream",
     "text": [
      "3\n"
     ]
    }
   ],
   "source": [
    "# Create a function to count how many times a character appears in a string\n",
    "def count_char(s, char):\n",
    "    return s.count(char)\n",
    "print(count_char(\"hello world\", \"l\"))"
   ]
  },
  {
   "cell_type": "code",
   "execution_count": 29,
   "id": "5065ac7a",
   "metadata": {},
   "outputs": [
    {
     "name": "stdout",
     "output_type": "stream",
     "text": [
      "True\n",
      "True\n",
      "False\n"
     ]
    }
   ],
   "source": [
    "# Write a function to check if a number is a perfect number\n",
    "def is_perfect_number(n):\n",
    "    if n <= 1:\n",
    "        return False\n",
    "    divisors_sum = 1  # 1 is always a divisor (except for 1 itself)\n",
    "    for i in range(2, int(n**0.5) + 1):\n",
    "        if n % i == 0:\n",
    "            divisors_sum += i\n",
    "            if i != n // i:\n",
    "                divisors_sum += n // i\n",
    "    return divisors_sum == n\n",
    "print(is_perfect_number(6))\n",
    "print(is_perfect_number(28))\n",
    "print(is_perfect_number(12))"
   ]
  },
  {
   "cell_type": "code",
   "execution_count": 33,
   "id": "c2084b77",
   "metadata": {},
   "outputs": [
    {
     "name": "stdout",
     "output_type": "stream",
     "text": [
      "15\n",
      "24\n"
     ]
    }
   ],
   "source": [
    "# Create a function to find the sum of digits of a number\n",
    "def sum_of_digits(n):\n",
    "    n = abs(n)\n",
    "    total = 0\n",
    "    while n > 0:\n",
    "        total += n % 10\n",
    "        n //= 10\n",
    "    return total\n",
    "print(sum_of_digits(12345))\n",
    "print(sum_of_digits(-987))"
   ]
  },
  {
   "cell_type": "code",
   "execution_count": 34,
   "id": "7189b4fa",
   "metadata": {},
   "outputs": [
    {
     "name": "stdout",
     "output_type": "stream",
     "text": [
      "{'h': 1, 'e': 1, 'l': 3, 'o': 2, ' ': 1, 'w': 1, 'r': 1, 'd': 1}\n"
     ]
    }
   ],
   "source": [
    "# Write a function that takes a string and returns a dictionary of character frequencies\n",
    "def char_frequencies(s):\n",
    "    freq = {}\n",
    "    for char in s:\n",
    "        freq[char] = freq.get(char, 0) + 1\n",
    "    return freq\n",
    "print(char_frequencies(\"hello world\"))"
   ]
  },
  {
   "cell_type": "code",
   "execution_count": 35,
   "id": "dcc5c66b",
   "metadata": {},
   "outputs": [
    {
     "name": "stdout",
     "output_type": "stream",
     "text": [
      "30.0\n"
     ]
    }
   ],
   "source": [
    "# Write a function that returns the average of a list of numbers\n",
    "def average(numbers):\n",
    "    if not numbers:\n",
    "        raise ValueError(\"The list is empty, cannot compute average.\")\n",
    "    return sum(numbers) / len(numbers)\n",
    "print(average([10, 20, 30, 40, 50]))"
   ]
  },
  {
   "cell_type": "code",
   "execution_count": 2,
   "id": "f4c3fd6f",
   "metadata": {},
   "outputs": [
    {
     "name": "stdout",
     "output_type": "stream",
     "text": [
      "Multiplication table for 5:\n",
      "5 x 1 = 5\n",
      "5 x 2 = 10\n",
      "5 x 3 = 15\n",
      "5 x 4 = 20\n",
      "5 x 5 = 25\n",
      "5 x 6 = 30\n",
      "5 x 7 = 35\n",
      "5 x 8 = 40\n",
      "5 x 9 = 45\n",
      "5 x 10 = 50\n"
     ]
    }
   ],
   "source": [
    "# Create a function that accepts a number and prints its multiplication table\n",
    "def print_multiplication_table(number):\n",
    "    print(f\"Multiplication table for {number}:\")\n",
    "    for i in range(1, 11):\n",
    "        result = number * i\n",
    "        print(f\"{number} x {i} = {result}\")\n",
    "print_multiplication_table(5)"
   ]
  },
  {
   "cell_type": "code",
   "execution_count": null,
   "id": "0e2299f7",
   "metadata": {},
   "outputs": [
    {
     "name": "stdout",
     "output_type": "stream",
     "text": [
      "[5, 4, 3, 2, 1]\n"
     ]
    }
   ],
   "source": [
    "# Write a function that accepts a list and returns the list in reverse order\n",
    "def reverse_list(input_list):\n",
    "    return input_list[::-1]\n",
    "my_list = [1, 2, 3, 4, 5]\n",
    "reversed_list = reverse_list(my_list)\n",
    "print(reversed_list)"
   ]
  },
  {
   "cell_type": "code",
   "execution_count": 3,
   "id": "a4da1da4",
   "metadata": {},
   "outputs": [
    {
     "name": "stdout",
     "output_type": "stream",
     "text": [
      "45\n"
     ]
    }
   ],
   "source": [
    "# Write a function to find the second largest number in a list\n",
    "def second_largest(numbers):\n",
    "    if len(numbers) < 2:\n",
    "        return None\n",
    "    unique_numbers = list(set(numbers))\n",
    "    if len(unique_numbers) < 2:\n",
    "        return None\n",
    "    unique_numbers.sort(reverse=True)\n",
    "    return unique_numbers[1]\n",
    "nums = [10, 20, 4, 45, 99, 99]\n",
    "result = second_largest(nums)\n",
    "print(result)"
   ]
  },
  {
   "cell_type": "code",
   "execution_count": 4,
   "id": "0e07ecf6",
   "metadata": {},
   "outputs": [
    {
     "name": "stdout",
     "output_type": "stream",
     "text": [
      "[2, 4, 6, 8]\n"
     ]
    }
   ],
   "source": [
    "# Create a function that accepts a list of integers and returns only the even ones\n",
    "def get_even_numbers(numbers):\n",
    "    return [num for num in numbers if num % 2 == 0]\n",
    "my_list = [1, 2, 3, 4, 5, 6, 7, 8]\n",
    "even_numbers = get_even_numbers(my_list)\n",
    "print(even_numbers)"
   ]
  },
  {
   "cell_type": "code",
   "execution_count": 5,
   "id": "6dd4fe3a",
   "metadata": {},
   "outputs": [
    {
     "name": "stdout",
     "output_type": "stream",
     "text": [
      "False\n",
      "True\n"
     ]
    }
   ],
   "source": [
    "# Write a function to check if all characters in a string are unique\n",
    "def all_unique_characters(s):\n",
    "    return len(set(s)) == len(s)\n",
    "print(all_unique_characters(\"hello\"))\n",
    "print(all_unique_characters(\"world\"))"
   ]
  },
  {
   "cell_type": "code",
   "execution_count": 6,
   "id": "ce704058",
   "metadata": {},
   "outputs": [
    {
     "name": "stdout",
     "output_type": "stream",
     "text": [
      "6\n",
      "25\n"
     ]
    }
   ],
   "source": [
    "# Create a function to calculate the greatest common divisor (GCD) of two numbers\n",
    "def gcd(a, b):\n",
    "    while b != 0:\n",
    "        a, b = b, a % b\n",
    "    return a\n",
    "print(gcd(48, 18))\n",
    "print(gcd(100, 25))"
   ]
  },
  {
   "cell_type": "code",
   "execution_count": 7,
   "id": "b4fa7064",
   "metadata": {},
   "outputs": [
    {
     "name": "stdout",
     "output_type": "stream",
     "text": [
      "36\n",
      "0\n"
     ]
    }
   ],
   "source": [
    "# Write a function to find the least common multiple (LCM) of two numbers\n",
    "def lcm(a, b):\n",
    "    def gcd(x, y):\n",
    "        while y != 0:\n",
    "            x, y = y, x % y\n",
    "        return x\n",
    "    return abs(a * b) // gcd(a, b) if a and b else 0\n",
    "print(lcm(12, 18))\n",
    "print(lcm(0, 5))"
   ]
  },
  {
   "cell_type": "code",
   "execution_count": 10,
   "id": "bc420b1b",
   "metadata": {},
   "outputs": [
    {
     "name": "stdout",
     "output_type": "stream",
     "text": [
      "[1, 2, 3, 4, 5]\n"
     ]
    }
   ],
   "source": [
    "# Create a function to remove duplicates from a list\n",
    "def remove_duplicates(lst):\n",
    "    return list(set(lst))\n",
    "my_list = [1, 2, 2, 3, 4, 1, 5]\n",
    "unique_list = remove_duplicates(my_list)\n",
    "print(unique_list)"
   ]
  },
  {
   "cell_type": "code",
   "execution_count": null,
   "id": "0ed09b4d",
   "metadata": {},
   "outputs": [],
   "source": [
    "# Write a recursive function to compute the factorial of a number\n",
    "def factorial(n):\n",
    "    if n < 0:\n",
    "        raise ValueError(\"Factorial is not defined for negative numbers.\")\n",
    "    if n == 0 or n == 1:\n",
    "        return 1\n",
    "    return n * factorial(n - 1)\n",
    "print(factorial(5))"
   ]
  },
  {
   "cell_type": "code",
   "execution_count": 11,
   "id": "97a6719e",
   "metadata": {},
   "outputs": [
    {
     "name": "stdout",
     "output_type": "stream",
     "text": [
      "True\n",
      "True\n",
      "False\n"
     ]
    }
   ],
   "source": [
    "# Create a function that checks if a number is an Armstrong number\n",
    "def is_armstrong(number):\n",
    "    digits = str(number)\n",
    "    power = len(digits)\n",
    "    total = sum(int(digit) ** power for digit in digits)\n",
    "    return total == number\n",
    "print(is_armstrong(153))\n",
    "print(is_armstrong(9474))\n",
    "print(is_armstrong(123))"
   ]
  },
  {
   "cell_type": "code",
   "execution_count": 12,
   "id": "f3acba0b",
   "metadata": {},
   "outputs": [
    {
     "name": "stdout",
     "output_type": "stream",
     "text": [
      "[2, 3, 5, 7, 11, 13, 17, 19]\n"
     ]
    }
   ],
   "source": [
    "# Write a function that returns all prime numbers up to n\n",
    "def primes_up_to(n):\n",
    "    if n < 2:\n",
    "        return []\n",
    "    sieve = [True] * (n + 1)\n",
    "    sieve[0], sieve[1] = False, False\n",
    "    for i in range(2, int(n**0.5) + 1):\n",
    "        if sieve[i]:\n",
    "            for j in range(i*i, n + 1, i):\n",
    "                sieve[j] = False\n",
    "    return [i for i, is_prime in enumerate(sieve) if is_prime]\n",
    "print(primes_up_to(20))"
   ]
  },
  {
   "cell_type": "code",
   "execution_count": 13,
   "id": "6e859a08",
   "metadata": {},
   "outputs": [
    {
     "name": "stdout",
     "output_type": "stream",
     "text": [
      "function\n"
     ]
    }
   ],
   "source": [
    "# Create a function that accepts a sentence and returns the longest word\n",
    "def longest_word(sentence):\n",
    "    words = sentence.split()\n",
    "    if not words:\n",
    "        return \"\"\n",
    "    return max(words, key=len)\n",
    "print(longest_word(\"Create a function that accepts a sentence and returns the longest word.\"))"
   ]
  },
  {
   "cell_type": "code",
   "execution_count": 14,
   "id": "c4e522df",
   "metadata": {},
   "outputs": [
    {
     "name": "stdout",
     "output_type": "stream",
     "text": [
      "8\n",
      "1\n",
      "0.25\n"
     ]
    }
   ],
   "source": [
    "# Write a function to compute the power of a number using recursion\n",
    "def power(base, exponent):\n",
    "    if exponent == 0:\n",
    "        return 1\n",
    "    elif exponent < 0:\n",
    "        return 1 / power(base, -exponent)\n",
    "    else:\n",
    "        return base * power(base, exponent - 1)\n",
    "print(power(2, 3))\n",
    "print(power(5, 0))\n",
    "print(power(2, -2))"
   ]
  },
  {
   "cell_type": "code",
   "execution_count": 15,
   "id": "ad9a84e7",
   "metadata": {},
   "outputs": [
    {
     "name": "stdout",
     "output_type": "stream",
     "text": [
      "[1, 2, 3, 4, 5, 6, 7, 8]\n"
     ]
    }
   ],
   "source": [
    "# Create a function that flattens a nested list\n",
    "def flatten(nested_list):\n",
    "    result = []\n",
    "    for item in nested_list:\n",
    "        if isinstance(item, list):\n",
    "            result.extend(flatten(item))\n",
    "        else:\n",
    "            result.append(item)\n",
    "    return result\n",
    "nested = [1, [2, [3, 4], 5], 6, [7, 8]]\n",
    "print(flatten(nested))"
   ]
  },
  {
   "cell_type": "code",
   "execution_count": 16,
   "id": "2d93347c",
   "metadata": {},
   "outputs": [
    {
     "name": "stdout",
     "output_type": "stream",
     "text": [
      "True\n",
      "False\n"
     ]
    }
   ],
   "source": [
    "# Write a function to check if a list is sorted\n",
    "def is_sorted(lst):\n",
    "    return all(lst[i] <= lst[i+1] for i in range(len(lst) - 1))\n",
    "print(is_sorted([1, 2, 2, 3, 4]))\n",
    "print(is_sorted([5, 3, 4, 1]))"
   ]
  },
  {
   "cell_type": "code",
   "execution_count": 17,
   "id": "cd0f7774",
   "metadata": {},
   "outputs": [
    {
     "name": "stdout",
     "output_type": "stream",
     "text": [
      "[1, 2, 3, 4, 5, 6]\n"
     ]
    }
   ],
   "source": [
    "# Create a function to merge two sorted lists into one sorted list\n",
    "def merge_sorted_lists(list1, list2):\n",
    "    merged = []\n",
    "    i, j = 0, 0\n",
    "    while i < len(list1) and j < len(list2):\n",
    "        if list1[i] <= list2[j]:\n",
    "            merged.append(list1[i])\n",
    "            i += 1\n",
    "        else:\n",
    "            merged.append(list2[j])\n",
    "            j += 1\n",
    "    merged.extend(list1[i:])\n",
    "    merged.extend(list2[j:])\n",
    "    return merged\n",
    "a = [1, 3, 5]\n",
    "b = [2, 4, 6]\n",
    "print(merge_sorted_lists(a, b))"
   ]
  },
  {
   "cell_type": "code",
   "execution_count": 18,
   "id": "6c10a4c7",
   "metadata": {},
   "outputs": [
    {
     "name": "stdout",
     "output_type": "stream",
     "text": [
      "3\n"
     ]
    }
   ],
   "source": [
    "# Write a function to find the most frequent element in a list\n",
    "from collections import Counter\n",
    "def most_frequent(lst):\n",
    "    if not lst:\n",
    "        return None\n",
    "    counter = Counter(lst)\n",
    "    most_common_element, _ = counter.most_common(1)[0]\n",
    "    return most_common_element\n",
    "my_list = [1, 3, 2, 1, 4, 1, 3, 2, 3, 3]\n",
    "print(most_frequent(my_list))"
   ]
  },
  {
   "cell_type": "code",
   "execution_count": 19,
   "id": "0fb68e6d",
   "metadata": {},
   "outputs": [
    {
     "name": "stdout",
     "output_type": "stream",
     "text": [
      "3\n",
      "2.5\n",
      "None\n"
     ]
    }
   ],
   "source": [
    "# Create a function that returns the median of a list\n",
    "def median(lst):\n",
    "    if not lst:\n",
    "        return None\n",
    "    sorted_lst = sorted(lst)\n",
    "    n = len(sorted_lst)\n",
    "    mid = n // 2\n",
    "\n",
    "    if n % 2 == 1:\n",
    "        return sorted_lst[mid]\n",
    "    else:\n",
    "        return (sorted_lst[mid - 1] + sorted_lst[mid]) / 2\n",
    "print(median([3, 1, 4, 2, 5]))\n",
    "print(median([3, 1, 4, 2]))\n",
    "print(median([]))"
   ]
  },
  {
   "cell_type": "code",
   "execution_count": 20,
   "id": "72c8056a",
   "metadata": {},
   "outputs": [
    {
     "name": "stdout",
     "output_type": "stream",
     "text": [
      "[3, 4]\n"
     ]
    }
   ],
   "source": [
    "# Create a function that finds the intersection of two lists\n",
    "def intersection(list1, list2):\n",
    "    set1 = set(list1)\n",
    "    set2 = set(list2)\n",
    "    return list(set1 & set2)\n",
    "a = [1, 2, 3, 4]\n",
    "b = [3, 4, 5, 6]\n",
    "print(intersection(a, b))"
   ]
  },
  {
   "cell_type": "code",
   "execution_count": 21,
   "id": "9cbae842",
   "metadata": {},
   "outputs": [
    {
     "name": "stdout",
     "output_type": "stream",
     "text": [
      "24\n",
      "50\n",
      "1\n"
     ]
    }
   ],
   "source": [
    "# Write a function that accepts variable number of arguments and returns their product\n",
    "def product(*args):\n",
    "    result = 1\n",
    "    for num in args:\n",
    "        result *= num\n",
    "    return result\n",
    "print(product(2, 3, 4))\n",
    "print(product(5, 10))\n",
    "print(product())"
   ]
  },
  {
   "cell_type": "code",
   "execution_count": 22,
   "id": "3ef605f2",
   "metadata": {},
   "outputs": [
    {
     "name": "stdout",
     "output_type": "stream",
     "text": [
      "[('a', 0), ('b', 1), ('c', 2)]\n"
     ]
    }
   ],
   "source": [
    "# Write a function that returns a list of tuples (element, index) from a list\n",
    "def element_index_pairs(lst):\n",
    "    return [(element, index) for index, element in enumerate(lst)]\n",
    "my_list = ['a', 'b', 'c']\n",
    "print(element_index_pairs(my_list))"
   ]
  },
  {
   "cell_type": "code",
   "execution_count": 29,
   "id": "84a62ed7",
   "metadata": {},
   "outputs": [
    {
     "name": "stdout",
     "output_type": "stream",
     "text": [
      "{'Hello': 2, 'world!': 1, 'everyone.': 1}\n"
     ]
    }
   ],
   "source": [
    "# Create a function that accepts a string and returns a dictionary of word counts\n",
    "def word_count(text):\n",
    "    words = text.split()\n",
    "    counts = {}\n",
    "    for word in words:\n",
    "        counts[word] = counts.get(word, 0) + 1\n",
    "    return counts\n",
    "text = \"Hello world! Hello everyone.\"\n",
    "print(word_count(text))"
   ]
  },
  {
   "cell_type": "code",
   "execution_count": 31,
   "id": "a1bf1e33",
   "metadata": {},
   "outputs": [
    {
     "name": "stdout",
     "output_type": "stream",
     "text": [
      "True\n",
      "False\n"
     ]
    }
   ],
   "source": [
    "# Write a function that checks if a sentence is a pangram\n",
    "import string\n",
    "\n",
    "def is_pangram(sentence):\n",
    "    sentence = sentence.lower()\n",
    "    alphabet = set(string.ascii_lowercase)\n",
    "    return alphabet.issubset(set(sentence))\n",
    "print(is_pangram(\"The quick brown fox jumps over the lazy dog\"))\n",
    "print(is_pangram(\"Hello world\"))"
   ]
  },
  {
   "cell_type": "code",
   "execution_count": 32,
   "id": "1f856d1c",
   "metadata": {},
   "outputs": [
    {
     "name": "stdout",
     "output_type": "stream",
     "text": [
      "2\n",
      "-1\n"
     ]
    }
   ],
   "source": [
    "# Create a function that accepts a list and a value, and returns the index of the value (or -1)\n",
    "def find_index(lst, value):\n",
    "    try:\n",
    "        return lst.index(value)\n",
    "    except ValueError:\n",
    "        return -1\n",
    "my_list = [10, 20, 30, 40]\n",
    "print(find_index(my_list, 30))\n",
    "print(find_index(my_list, 50))"
   ]
  },
  {
   "cell_type": "code",
   "execution_count": 33,
   "id": "37c99a69",
   "metadata": {},
   "outputs": [
    {
     "name": "stdout",
     "output_type": "stream",
     "text": [
      "Uppercase: 2, Lowercase: 8\n"
     ]
    }
   ],
   "source": [
    "# Write a function that counts the number of uppercase and lowercase characters in a string\n",
    "def count_case_chars(s):\n",
    "    uppercase_count = sum(1 for c in s if c.isupper())\n",
    "    lowercase_count = sum(1 for c in s if c.islower())\n",
    "    return uppercase_count, lowercase_count\n",
    "text = \"Hello World!\"\n",
    "upper, lower = count_case_chars(text)\n",
    "print(f\"Uppercase: {upper}, Lowercase: {lower}\")"
   ]
  }
 ],
 "metadata": {
  "kernelspec": {
   "display_name": "Python 3",
   "language": "python",
   "name": "python3"
  },
  "language_info": {
   "codemirror_mode": {
    "name": "ipython",
    "version": 3
   },
   "file_extension": ".py",
   "mimetype": "text/x-python",
   "name": "python",
   "nbconvert_exporter": "python",
   "pygments_lexer": "ipython3",
   "version": "3.13.3"
  }
 },
 "nbformat": 4,
 "nbformat_minor": 5
}
