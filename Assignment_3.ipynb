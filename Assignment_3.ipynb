{
 "cells": [
  {
   "cell_type": "code",
   "execution_count": 15,
   "id": "fa49da51",
   "metadata": {},
   "outputs": [
    {
     "name": "stdout",
     "output_type": "stream",
     "text": [
      "SamZ\n",
      "21\n"
     ]
    }
   ],
   "source": [
    "# Create a simple class `Person` with name and age as attributes\n",
    "class Person:\n",
    "    def __init__(self, name, age):\n",
    "        self.name = name\n",
    "        self.age = age\n",
    "p = Person(\"SamZ\", 21)\n",
    "print(p.name)\n",
    "print(p.age)"
   ]
  },
  {
   "cell_type": "code",
   "execution_count": 16,
   "id": "3693f587",
   "metadata": {},
   "outputs": [
    {
     "name": "stdout",
     "output_type": "stream",
     "text": [
      "Hello, my name is SamZ and I am 21 years old.\n"
     ]
    }
   ],
   "source": [
    "# Add a method to the `Person` class that prints a greeting\n",
    "class Person:\n",
    "    def __init__(self, name, age):\n",
    "        self.name = name\n",
    "        self.age = age\n",
    "    def greet(self):\n",
    "        print(f\"Hello, my name is {self.name} and I am {self.age} years old.\")\n",
    "p = Person(\"SamZ\", 21)\n",
    "p.greet()"
   ]
  },
  {
   "cell_type": "code",
   "execution_count": 17,
   "id": "cf0f3500",
   "metadata": {},
   "outputs": [
    {
     "name": "stdout",
     "output_type": "stream",
     "text": [
      "Ace\n",
      "5\n",
      "German Shepherd\n",
      "German Shepherd\n"
     ]
    }
   ],
   "source": [
    "# Create a class with a class variable and instance variable\n",
    "class Dog:\n",
    "    species = \"German Shepherd\"\n",
    "    def __init__(self, name, age):\n",
    "        self.name = name\n",
    "        self.age = age\n",
    "dog1 = Dog(\"Ace\", 3)\n",
    "dog2 = Dog(\"Luca\", 5)\n",
    "print(dog1.name)\n",
    "print(dog2.age)\n",
    "print(dog1.species)\n",
    "print(dog2.species)"
   ]
  },
  {
   "cell_type": "code",
   "execution_count": 8,
   "id": "5531aabe",
   "metadata": {},
   "outputs": [
    {
     "name": "stdout",
     "output_type": "stream",
     "text": [
      "Top Secret\n"
     ]
    }
   ],
   "source": [
    "# Create a private attribute in a class and access it using a method\n",
    "class SecretBox:\n",
    "    def __init__(self, secret):\n",
    "        self.__secret = secret\n",
    "    def reveal_secret(self):\n",
    "        return self.__secret\n",
    "box = SecretBox(\"Top Secret\")\n",
    "print(box.reveal_secret())"
   ]
  },
  {
   "cell_type": "code",
   "execution_count": 10,
   "id": "56145520",
   "metadata": {},
   "outputs": [
    {
     "name": "stdout",
     "output_type": "stream",
     "text": [
      "25\n"
     ]
    }
   ],
   "source": [
    "# Create a class with a method that returns the square of a number\n",
    "class MathTool:\n",
    "    def square(self, number):\n",
    "        return number ** 2\n",
    "tool = MathTool()\n",
    "print(tool.square(5))"
   ]
  },
  {
   "cell_type": "code",
   "execution_count": 12,
   "id": "6806d41b",
   "metadata": {},
   "outputs": [
    {
     "name": "stdout",
     "output_type": "stream",
     "text": [
      "Car 1: Toyota, Green\n",
      "Car 2: Honda, Blue\n"
     ]
    }
   ],
   "source": [
    "# Create two objects of a class and demonstrate that they are independent\n",
    "class Car:\n",
    "    def __init__(self, make, color):\n",
    "        self.make = make\n",
    "        self.color = color\n",
    "car1 = Car(\"Toyota\", \"Red\")\n",
    "car2 = Car(\"Honda\", \"Blue\")\n",
    "car1.color = \"Green\"\n",
    "print(f\"Car 1: {car1.make}, {car1.color}\")\n",
    "print(f\"Car 2: {car2.make}, {car2.color}\")"
   ]
  },
  {
   "cell_type": "code",
   "execution_count": 20,
   "id": "02a85af6",
   "metadata": {},
   "outputs": [
    {
     "name": "stdout",
     "output_type": "stream",
     "text": [
      "Title: Captain America\n",
      "Author: Ali Baba\n"
     ]
    }
   ],
   "source": [
    "# Create a class and use a method to set its attributes\n",
    "class Book:\n",
    "    def __init__(self):\n",
    "        self.title = None\n",
    "        self.author = None\n",
    "    def set_details(self, title, author):\n",
    "        self.title = title\n",
    "        self.author = author\n",
    "my_book = Book()\n",
    "my_book.set_details(\"Captain America\", \"Ali Baba\")\n",
    "print(f\"Title: {my_book.title}\")\n",
    "print(f\"Author: {my_book.author}\")"
   ]
  },
  {
   "cell_type": "code",
   "execution_count": 22,
   "id": "db12d231",
   "metadata": {},
   "outputs": [
    {
     "name": "stdout",
     "output_type": "stream",
     "text": [
      "True\n",
      "True\n",
      "False\n"
     ]
    }
   ],
   "source": [
    "# Demonstrate use of `isinstance()` with a class\n",
    "class Animal:\n",
    "    def __init__(self, name):\n",
    "        self.name = name\n",
    "dog = Animal(\"Buddy\")\n",
    "print(isinstance(dog, Animal))\n",
    "print(isinstance(dog, object))\n",
    "print(isinstance(dog, str))"
   ]
  },
  {
   "cell_type": "code",
   "execution_count": 24,
   "id": "7f7638c6",
   "metadata": {},
   "outputs": [
    {
     "name": "stdout",
     "output_type": "stream",
     "text": [
      "The animal makes a sound\n",
      "The dog barks\n"
     ]
    }
   ],
   "source": [
    "# Demonstrate single inheritance in Python\n",
    "class Animal:\n",
    "    def speak(self):\n",
    "        print(\"The animal makes a sound\")\n",
    "class Dog(Animal):\n",
    "    def bark(self):\n",
    "        print(\"The dog barks\")\n",
    "my_dog = Dog()\n",
    "my_dog.speak()\n",
    "my_dog.bark()"
   ]
  },
  {
   "cell_type": "code",
   "execution_count": 26,
   "id": "4d2147db",
   "metadata": {},
   "outputs": [
    {
     "name": "stdout",
     "output_type": "stream",
     "text": [
      "Engine started.\n",
      "Car is driving.\n",
      "Battery is charging.\n"
     ]
    }
   ],
   "source": [
    "# Create a base class and derive two child classes with different methods(multi-level inheritance)\n",
    "class Vehicle:\n",
    "    def start_engine(self):\n",
    "        print(\"Engine started.\")\n",
    "class Car(Vehicle):\n",
    "    def drive(self):\n",
    "        print(\"Car is driving.\")\n",
    "class ElectricCar(Car):\n",
    "    def charge_battery(self):\n",
    "        print(\"Battery is charging.\")\n",
    "my_tesla = ElectricCar()\n",
    "my_tesla.start_engine()\n",
    "my_tesla.drive()\n",
    "my_tesla.charge_battery()\n"
   ]
  },
  {
   "cell_type": "code",
   "execution_count": 29,
   "id": "3380f00e",
   "metadata": {},
   "outputs": [
    {
     "name": "stdout",
     "output_type": "stream",
     "text": [
      "The animal makes a sound\n",
      "The dog barks\n"
     ]
    }
   ],
   "source": [
    "# Demonstrate method overriding in inheritance\n",
    "class Animal:\n",
    "    def speak(self):\n",
    "        print(\"The animal makes a sound\")\n",
    "class Dog(Animal):\n",
    "    def speak(self):\n",
    "        print(\"The dog barks\")\n",
    "a = Animal()\n",
    "d = Dog()\n",
    "a.speak()\n",
    "d.speak()"
   ]
  },
  {
   "cell_type": "code",
   "execution_count": 31,
   "id": "890c28ea",
   "metadata": {},
   "outputs": [
    {
     "name": "stdout",
     "output_type": "stream",
     "text": [
      "The animal makes a sound\n",
      "The dog barks\n"
     ]
    }
   ],
   "source": [
    "# Use `super()` to call a parent class method\n",
    "class Animal:\n",
    "    def speak(self):\n",
    "        print(\"The animal makes a sound\")\n",
    "class Dog(Animal):\n",
    "    def speak(self):\n",
    "        super().speak()\n",
    "        print(\"The dog barks\")\n",
    "d = Dog()\n",
    "d.speak()"
   ]
  },
  {
   "cell_type": "code",
   "execution_count": 33,
   "id": "6875ad79",
   "metadata": {},
   "outputs": [
    {
     "name": "stdout",
     "output_type": "stream",
     "text": [
      "Area: 20\n",
      "Perimeter: 18\n"
     ]
    }
   ],
   "source": [
    "# Create an abstract base class using `abc` module\n",
    "from abc import ABC, abstractmethod\n",
    "class Shape(ABC):\n",
    "    @abstractmethod\n",
    "    def area(self):\n",
    "        pass\n",
    "    @abstractmethod\n",
    "    def perimeter(self):\n",
    "        pass\n",
    "class Rectangle(Shape):\n",
    "    def __init__(self, width, height):\n",
    "        self.width = width\n",
    "        self.height = height\n",
    "    def area(self):\n",
    "        return self.width * self.height\n",
    "    def perimeter(self):\n",
    "        return 2 * (self.width + self.height)\n",
    "rect = Rectangle(4, 5)\n",
    "print(\"Area:\", rect.area())\n",
    "print(\"Perimeter:\", rect.perimeter())"
   ]
  },
  {
   "cell_type": "code",
   "execution_count": 35,
   "id": "5bcb2990",
   "metadata": {},
   "outputs": [
    {
     "name": "stdout",
     "output_type": "stream",
     "text": [
      "I can fly!\n",
      "I can swim!\n",
      "Quack quack!\n"
     ]
    }
   ],
   "source": [
    "# Demonstrate multiple inheritance in Python\n",
    "class Flyer:\n",
    "    def fly(self):\n",
    "        print(\"I can fly!\")\n",
    "class Swimmer:\n",
    "    def swim(self):\n",
    "        print(\"I can swim!\")\n",
    "class Duck(Flyer, Swimmer):\n",
    "    def quack(self):\n",
    "        print(\"Quack quack!\")\n",
    "donald = Duck()\n",
    "donald.fly()\n",
    "donald.swim()\n",
    "donald.quack()"
   ]
  },
  {
   "cell_type": "code",
   "execution_count": 38,
   "id": "42366fa5",
   "metadata": {},
   "outputs": [
    {
     "name": "stdout",
     "output_type": "stream",
     "text": [
      "SamZ\n",
      "21\n",
      "25\n",
      "Age cannot be negative\n"
     ]
    }
   ],
   "source": [
    "# Demonstrate encapsulation using getter and setter\n",
    "class Person:\n",
    "    def __init__(self, name, age):\n",
    "        self.__name = name \n",
    "        self.__age = age\n",
    "    def get_name(self):\n",
    "        return self.__name\n",
    "    def set_name(self, name):\n",
    "        self.__name = name\n",
    "    def get_age(self):\n",
    "        return self.__age\n",
    "    def set_age(self, age):\n",
    "        if age >= 0:\n",
    "            self.__age = age\n",
    "        else:\n",
    "            print(\"Age cannot be negative\")\n",
    "p = Person(\"SamZ\", 21)\n",
    "print(p.get_name())\n",
    "print(p.get_age())\n",
    "p.set_age(25)\n",
    "print(p.get_age())\n",
    "p.set_age(-5)"
   ]
  },
  {
   "cell_type": "code",
   "execution_count": 40,
   "id": "97ef6798",
   "metadata": {},
   "outputs": [
    {
     "name": "stdout",
     "output_type": "stream",
     "text": [
      "Bird sings\n",
      "Dog barks\n",
      "Cat meows\n"
     ]
    }
   ],
   "source": [
    "# Write a program to demonstrate polymorphism with a common method\n",
    "class Bird:\n",
    "    def sound(self):\n",
    "        print(\"Bird sings\")\n",
    "class Dog:\n",
    "    def sound(self):\n",
    "        print(\"Dog barks\")\n",
    "class Cat:\n",
    "    def sound(self):\n",
    "        print(\"Cat meows\")\n",
    "def make_sound(animal):\n",
    "    animal.sound()\n",
    "b = Bird()\n",
    "d = Dog()\n",
    "c = Cat()\n",
    "for animal in (b, d, c):\n",
    "    make_sound(animal)"
   ]
  },
  {
   "cell_type": "code",
   "execution_count": 43,
   "id": "52393dca",
   "metadata": {},
   "outputs": [
    {
     "name": "stdout",
     "output_type": "stream",
     "text": [
      "Number of employees created: 3\n"
     ]
    }
   ],
   "source": [
    "# Create a class `Employee` with a method to display the number of employees created\n",
    "class Employee:\n",
    "    employee_count = 0\n",
    "    def __init__(self, name):\n",
    "        self.name = name\n",
    "        Employee.employee_count += 1\n",
    "    @classmethod\n",
    "    def display_employee_count(cls):\n",
    "        print(f\"Number of employees created: {cls.employee_count}\")\n",
    "e1 = Employee(\"SamZ\")\n",
    "e2 = Employee(\"Sam\")\n",
    "e3 = Employee(\"Sani\")\n",
    "Employee.display_employee_count()"
   ]
  },
  {
   "cell_type": "code",
   "execution_count": 46,
   "id": "8e4133a7",
   "metadata": {},
   "outputs": [
    {
     "name": "stdout",
     "output_type": "stream",
     "text": [
      "Name: SamZ, Age: 21\n",
      "Name: Sam, Age not provided\n"
     ]
    }
   ],
   "source": [
    "# Demonstrate constructor overloading using default arguments\n",
    "class Person:\n",
    "    def __init__(self, name, age=None):\n",
    "        self.name = name\n",
    "        self.age = age\n",
    "    def display(self):\n",
    "        if self.age is not None:\n",
    "            print(f\"Name: {self.name}, Age: {self.age}\")\n",
    "        else:\n",
    "            print(f\"Name: {self.name}, Age not provided\")\n",
    "p1 = Person(\"SamZ\", 21)\n",
    "p2 = Person(\"Sam\")\n",
    "p1.display()\n",
    "p2.display()"
   ]
  },
  {
   "cell_type": "code",
   "execution_count": 51,
   "id": "42d6aa16",
   "metadata": {},
   "outputs": [
    {
     "name": "stdout",
     "output_type": "stream",
     "text": [
      "Deposited 500. New balance: 1500\n",
      "Withdrew 200. New balance: 1300\n",
      "Insufficient funds.\n"
     ]
    }
   ],
   "source": [
    "# Implement a bank account system with deposit and withdrawal methods\n",
    "class BankAccount:\n",
    "    def __init__(self, owner, balance=0):\n",
    "        self.owner = owner\n",
    "        self.balance = balance\n",
    "    def deposit(self, amount):\n",
    "        if amount > 0:\n",
    "            self.balance += amount\n",
    "            print(f\"Deposited {amount}. New balance: {self.balance}\")\n",
    "        else:\n",
    "            print(\"Deposit amount must be positive.\")\n",
    "    def withdraw(self, amount):\n",
    "        if amount <= 0:\n",
    "            print(\"Withdrawal amount must be positive.\")\n",
    "        elif amount > self.balance:\n",
    "            print(\"Insufficient funds.\")\n",
    "        else:\n",
    "            self.balance -= amount\n",
    "            print(f\"Withdrew {amount}. New balance: {self.balance}\")\n",
    "account = BankAccount(\"John Doe\", 1000)\n",
    "account.deposit(500)\n",
    "account.withdraw(200)\n",
    "account.withdraw(2000)"
   ]
  },
  {
   "cell_type": "code",
   "execution_count": 52,
   "id": "7b38c6d2",
   "metadata": {},
   "outputs": [
    {
     "name": "stdout",
     "output_type": "stream",
     "text": [
      "Area: 15\n",
      "Perimeter: 16\n"
     ]
    }
   ],
   "source": [
    "# Create a class `Rectangle` with method to calculate area and perimeter\n",
    "class Rectangle:\n",
    "    def __init__(self, width, height):\n",
    "        self.width = width\n",
    "        self.height = height\n",
    "    def area(self):\n",
    "        return self.width * self.height\n",
    "    def perimeter(self):\n",
    "        return 2 * (self.width + self.height)\n",
    "rect = Rectangle(5, 3)\n",
    "print(\"Area:\", rect.area())\n",
    "print(\"Perimeter:\", rect.perimeter())"
   ]
  }
 ],
 "metadata": {
  "kernelspec": {
   "display_name": "Python 3",
   "language": "python",
   "name": "python3"
  },
  "language_info": {
   "codemirror_mode": {
    "name": "ipython",
    "version": 3
   },
   "file_extension": ".py",
   "mimetype": "text/x-python",
   "name": "python",
   "nbconvert_exporter": "python",
   "pygments_lexer": "ipython3",
   "version": "3.13.3"
  }
 },
 "nbformat": 4,
 "nbformat_minor": 5
}
