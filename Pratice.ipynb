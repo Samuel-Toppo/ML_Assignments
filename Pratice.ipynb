{
 "cells": [
  {
   "cell_type": "code",
   "execution_count": 2,
   "id": "da69f1a4",
   "metadata": {},
   "outputs": [
    {
     "name": "stdout",
     "output_type": "stream",
     "text": [
      "hello world\n"
     ]
    },
    {
     "data": {
      "text/plain": [
       "False"
      ]
     },
     "execution_count": 2,
     "metadata": {},
     "output_type": "execute_result"
    }
   ],
   "source": [
    "print(\"hello world\")\n",
    "True and False"
   ]
  },
  {
   "cell_type": "code",
   "execution_count": 7,
   "id": "7f9e825f",
   "metadata": {},
   "outputs": [],
   "source": [
    "x = 500\n",
    "for x in range(0,100):\n",
    "    1"
   ]
  },
  {
   "cell_type": "code",
   "execution_count": 15,
   "id": "84264c4a",
   "metadata": {},
   "outputs": [
    {
     "name": "stdout",
     "output_type": "stream",
     "text": [
      "False\n",
      "False\n"
     ]
    }
   ],
   "source": [
    "print(13 not in range (12,16))\n",
    "print(17 in range (12,16))"
   ]
  },
  {
   "cell_type": "code",
   "execution_count": 11,
   "id": "98113e43",
   "metadata": {},
   "outputs": [
    {
     "name": "stdout",
     "output_type": "stream",
     "text": [
      "13\n"
     ]
    }
   ],
   "source": [
    "print(5|9)"
   ]
  },
  {
   "cell_type": "code",
   "execution_count": 13,
   "id": "95320e28",
   "metadata": {},
   "outputs": [
    {
     "name": "stdout",
     "output_type": "stream",
     "text": [
      "32\n"
     ]
    }
   ],
   "source": [
    "x=2\n",
    "print(x**5)"
   ]
  },
  {
   "cell_type": "code",
   "execution_count": 17,
   "id": "66cd1294",
   "metadata": {},
   "outputs": [
    {
     "name": "stdout",
     "output_type": "stream",
     "text": [
      "110000\n"
     ]
    }
   ],
   "source": [
    "income = 100000\n",
    "incertives = 10000\n",
    "total_income = income + incertives\n",
    "print(total_income)"
   ]
  },
  {
   "cell_type": "code",
   "execution_count": 18,
   "id": "633e9695",
   "metadata": {},
   "outputs": [
    {
     "name": "stdout",
     "output_type": "stream",
     "text": [
      "112550.5\n"
     ]
    }
   ],
   "source": [
    "income = 100000\n",
    "incertives = 12550.50\n",
    "total_income = income +incertives\n",
    "print(total_income)"
   ]
  },
  {
   "cell_type": "code",
   "execution_count": 20,
   "id": "e5f2eeed",
   "metadata": {},
   "outputs": [],
   "source": [
    "ketty_age = 28\n",
    "kenny_age = 25"
   ]
  },
  {
   "cell_type": "code",
   "execution_count": 21,
   "id": "92bc8e3a",
   "metadata": {},
   "outputs": [
    {
     "data": {
      "text/plain": [
       "False"
      ]
     },
     "execution_count": 21,
     "metadata": {},
     "output_type": "execute_result"
    }
   ],
   "source": [
    "ketty_age == kenny_age"
   ]
  },
  {
   "cell_type": "code",
   "execution_count": null,
   "id": "10ff6493",
   "metadata": {},
   "outputs": [
    {
     "data": {
      "text/plain": [
       "True"
      ]
     },
     "execution_count": 22,
     "metadata": {},
     "output_type": "execute_result"
    }
   ],
   "source": [
    "ketty_age <= kenny_age\n"
   ]
  },
  {
   "cell_type": "code",
   "execution_count": 25,
   "id": "6d574688",
   "metadata": {},
   "outputs": [
    {
     "data": {
      "text/plain": [
       "True"
      ]
     },
     "execution_count": 25,
     "metadata": {},
     "output_type": "execute_result"
    }
   ],
   "source": [
    "ketty_age >= kenny_age\n"
   ]
  },
  {
   "cell_type": "code",
   "execution_count": 24,
   "id": "7291b707",
   "metadata": {},
   "outputs": [
    {
     "data": {
      "text/plain": [
       "False"
      ]
     },
     "execution_count": 24,
     "metadata": {},
     "output_type": "execute_result"
    }
   ],
   "source": [
    "ketty_age < kenny_age\n"
   ]
  },
  {
   "cell_type": "code",
   "execution_count": 23,
   "id": "1482e3b4",
   "metadata": {},
   "outputs": [
    {
     "data": {
      "text/plain": [
       "True"
      ]
     },
     "execution_count": 23,
     "metadata": {},
     "output_type": "execute_result"
    }
   ],
   "source": [
    "ketty_age > kenny_age"
   ]
  },
  {
   "cell_type": "code",
   "execution_count": 26,
   "id": "bc2ba146",
   "metadata": {},
   "outputs": [],
   "source": [
    "is_student = True\n",
    "in_college = True\n",
    "in_school = False"
   ]
  },
  {
   "cell_type": "code",
   "execution_count": 28,
   "id": "97ade35a",
   "metadata": {},
   "outputs": [
    {
     "data": {
      "text/plain": [
       "True"
      ]
     },
     "execution_count": 28,
     "metadata": {},
     "output_type": "execute_result"
    }
   ],
   "source": [
    "is_student and in_college"
   ]
  },
  {
   "cell_type": "code",
   "execution_count": 29,
   "id": "b3e600ec",
   "metadata": {},
   "outputs": [
    {
     "data": {
      "text/plain": [
       "True"
      ]
     },
     "execution_count": 29,
     "metadata": {},
     "output_type": "execute_result"
    }
   ],
   "source": [
    "is_student or in_school"
   ]
  },
  {
   "cell_type": "code",
   "execution_count": 1,
   "id": "a13cb90b",
   "metadata": {},
   "outputs": [
    {
     "data": {
      "text/plain": [
       "False"
      ]
     },
     "execution_count": 1,
     "metadata": {},
     "output_type": "execute_result"
    }
   ],
   "source": [
    "number = 10\n",
    "(number % 2 == 0) & (number % 3 == 0)"
   ]
  },
  {
   "cell_type": "code",
   "execution_count": 2,
   "id": "793faa98",
   "metadata": {},
   "outputs": [
    {
     "data": {
      "text/plain": [
       "True"
      ]
     },
     "execution_count": 2,
     "metadata": {},
     "output_type": "execute_result"
    }
   ],
   "source": [
    "number = 10\n",
    "(number % 2 == 0) | (number % 3 == 0)"
   ]
  },
  {
   "cell_type": "code",
   "execution_count": null,
   "id": "f8cd2758",
   "metadata": {},
   "outputs": [
    {
     "name": "stdout",
     "output_type": "stream",
     "text": [
      "8 is greater than zero\n",
      "thisis always printed\n"
     ]
    }
   ],
   "source": [
    "num = 8\n",
    "if(num > 2):\n",
    "    print(num, \"is greater than zero\")\n",
    "print(\"this is always printed\")"
   ]
  },
  {
   "cell_type": "code",
   "execution_count": 8,
   "id": "45d0679e",
   "metadata": {},
   "outputs": [
    {
     "name": "stdout",
     "output_type": "stream",
     "text": [
      "this is always printed\n"
     ]
    }
   ],
   "source": [
    "num = -1\n",
    "if(num > 0):\n",
    "    print(num, \"is greater than zero\")\n",
    "print(\"this is always printed\")"
   ]
  },
  {
   "cell_type": "code",
   "execution_count": 2,
   "id": "1e128e82",
   "metadata": {},
   "outputs": [
    {
     "name": "stdout",
     "output_type": "stream",
     "text": [
      "-1 is less than zero\n",
      "This is always printed\n"
     ]
    }
   ],
   "source": [
    "num =-1\n",
    "if(num > 0):\n",
    "    print(num, \"is greter than zero\")\n",
    "else:\n",
    "    print(num, \"is less than zero\")\n",
    "print(\"This is always printed\")"
   ]
  },
  {
   "cell_type": "code",
   "execution_count": 4,
   "id": "91cdf408",
   "metadata": {},
   "outputs": [
    {
     "name": "stdout",
     "output_type": "stream",
     "text": [
      "no fares for age group 0-3\n"
     ]
    }
   ],
   "source": [
    "age = int(input(\"enter age: \"))\n",
    "if(0 < age < 3):\n",
    "    print(\"no fares for age group 0-3\")\n",
    "elif(3 < age < 10):\n",
    "    print(\"bus fare is 20\")\n",
    "elif(10 < age < 20):\n",
    "    print(\"bus fare is 25\")\n",
    "else:\n",
    "    print(\"bus fare is 30\")"
   ]
  },
  {
   "cell_type": "code",
   "execution_count": 12,
   "id": "abd29dcb",
   "metadata": {},
   "outputs": [
    {
     "name": "stdout",
     "output_type": "stream",
     "text": [
      "55 is greater\n"
     ]
    }
   ],
   "source": [
    "num1 = 10\n",
    "num2 = 30\n",
    "num3 = 55\n",
    "if (num1 > num2):\n",
    "    print(num1, \"is greater\")\n",
    "else:\n",
    "    if (num3 > num2):\n",
    "        print(num3, \"is greater\")\n",
    "    else:\n",
    "        print(num2, \"is greater\")"
   ]
  },
  {
   "cell_type": "code",
   "execution_count": 16,
   "id": "fd87cb01",
   "metadata": {},
   "outputs": [
    {
     "name": "stdout",
     "output_type": "stream",
     "text": [
      "the greatest no. is 18\n"
     ]
    }
   ],
   "source": [
    "a = int(input(\"enter first no. :\"))\n",
    "b = int(input(\"enter seconf no. :\"))\n",
    "c = int(input(\"enter third no. :\"))\n",
    "\n",
    "if a >= b:\n",
    "    if a>= c:\n",
    "        greatest = a\n",
    "    else:\n",
    "        greatest = c\n",
    "else:\n",
    "    if b >= c:\n",
    "        greatest = b\n",
    "    else:\n",
    "        greatest = c\n",
    "print(\"the greatest no. is\", greatest)"
   ]
  },
  {
   "cell_type": "code",
   "execution_count": 17,
   "id": "b806c011",
   "metadata": {},
   "outputs": [
    {
     "name": "stdout",
     "output_type": "stream",
     "text": [
      "addition is:  55\n"
     ]
    }
   ],
   "source": [
    "num = 10\n",
    "addition = 0\n",
    "i = 1\n",
    "while(i <= num):\n",
    "    addition = addition + i\n",
    "    i = i + 1\n",
    "print(\"addition is: \", addition)"
   ]
  },
  {
   "cell_type": "code",
   "execution_count": 18,
   "id": "95aeef88",
   "metadata": {},
   "outputs": [
    {
     "name": "stdout",
     "output_type": "stream",
     "text": [
      "addition is :  55\n"
     ]
    }
   ],
   "source": [
    "number = range(1, 11)\n",
    "addition = 0\n",
    "for i in number:\n",
    "    addition = addition + i\n",
    "print(\"addition is : \", addition)"
   ]
  },
  {
   "cell_type": "code",
   "execution_count": 1,
   "id": "7aa06930",
   "metadata": {},
   "outputs": [
    {
     "name": "stdout",
     "output_type": "stream",
     "text": [
      "K\n",
      "n\n",
      "o\n",
      "w\n",
      "l\n",
      "e\n",
      "d\n",
      "g\n",
      "e\n",
      "The loop skipped a space here\n",
      "H\n",
      "u\n",
      "t\n"
     ]
    }
   ],
   "source": [
    "text = \"Knowledge Hut\"\n",
    "for letter in text:\n",
    "    if letter == ' ':\n",
    "        print(\"The loop skipped a space here\")\n",
    "        continue\n",
    "    print(letter)"
   ]
  },
  {
   "cell_type": "code",
   "execution_count": 3,
   "id": "f148f002",
   "metadata": {},
   "outputs": [
    {
     "name": "stdout",
     "output_type": "stream",
     "text": [
      "1 2 2 3 3 3 4 4 4 4 5 5 5 5 5 \n",
      "\n"
     ]
    }
   ],
   "source": [
    "levels = int(input(\"enter no. of levels: \"))\n",
    "for level in range(1, levels+1):\n",
    "    for num in range(level):\n",
    "        print(level, end=\" \")\n",
    "print(\"\\n\")"
   ]
  },
  {
   "cell_type": "code",
   "execution_count": 4,
   "id": "7261f317",
   "metadata": {},
   "outputs": [
    {
     "name": "stdout",
     "output_type": "stream",
     "text": [
      "Hii SamZ\n"
     ]
    }
   ],
   "source": [
    "name = input(\"enter your name: \")\n",
    "print(\"Hii\", name)"
   ]
  },
  {
   "cell_type": "code",
   "execution_count": 5,
   "id": "3e7ce943",
   "metadata": {},
   "outputs": [
    {
     "name": "stdout",
     "output_type": "stream",
     "text": [
      "Hello SamZ\n"
     ]
    }
   ],
   "source": [
    "def greet(name):\n",
    "    print(\"Hello\", name)\n",
    "greet(\"SamZ\")"
   ]
  },
  {
   "cell_type": "code",
   "execution_count": 14,
   "id": "67ac25b3",
   "metadata": {},
   "outputs": [],
   "source": [
    "#write a function to calculate and return sum of the nos.\n",
    "def sum(x, y):\n",
    "    z = x + y\n",
    "    # return z\n",
    "result = sum(5, 7)\n",
    "# print(result)\n",
    "# print(sum(5,6))\n",
    "# print(z)"
   ]
  },
  {
   "cell_type": "code",
   "execution_count": 25,
   "id": "0e2b3515",
   "metadata": {},
   "outputs": [
    {
     "name": "stdout",
     "output_type": "stream",
     "text": [
      "the area of circle is 2 is 12.56\n",
      "the circumference of circle is 2 is 12.56\n"
     ]
    }
   ],
   "source": [
    "#create a function that return both area and circumference of a circle given its radidus\n",
    "PI = 3.14\n",
    "def circle(a):\n",
    "    print(\"the area of circle is\", a,\"is\", PI * a**2)\n",
    "    print(\"the circumference of circle is\", a, \"is\", 2*PI*a)\n",
    "circle(2)"
   ]
  },
  {
   "cell_type": "code",
   "execution_count": null,
   "id": "19f46dc3",
   "metadata": {},
   "outputs": [
    {
     "name": "stdout",
     "output_type": "stream",
     "text": [
      "my name \n",
      "my name SamZ\n"
     ]
    }
   ],
   "source": [
    "#write a function that greet a user if no name is provided it shoukd greet with default name\n",
    "def defFunction(name = \"SamZ\"):\n",
    "    print(\"my name\", name)\n",
    "defFunction(\"Python\")\n",
    "defFunction()"
   ]
  },
  {
   "cell_type": "code",
   "execution_count": 28,
   "id": "706dc6af",
   "metadata": {},
   "outputs": [
    {
     "name": "stdout",
     "output_type": "stream",
     "text": [
      "4\n"
     ]
    }
   ],
   "source": [
    "#lambda function \n",
    "sq = lambda x : x**2\n",
    "print(sq(2))"
   ]
  },
  {
   "cell_type": "code",
   "execution_count": 1,
   "id": "3028a06b",
   "metadata": {},
   "outputs": [
    {
     "name": "stdout",
     "output_type": "stream",
     "text": [
      "10\n"
     ]
    }
   ],
   "source": [
    "def sum_all(*args):\n",
    "    return sum(args)\n",
    "print(sum_all(1,2,3,4))\n",
    "# print(sum_all(1,2,3,4,5,6,7))\n"
   ]
  },
  {
   "cell_type": "code",
   "execution_count": 2,
   "id": "9c721de8",
   "metadata": {},
   "outputs": [
    {
     "name": "stdout",
     "output_type": "stream",
     "text": [
      "45\n"
     ]
    }
   ],
   "source": [
    "def func(*args):\n",
    "    sum = 0\n",
    "    for i in args:\n",
    "        sum += i\n",
    "    print(sum)\n",
    "func(1,2,3,4,5,6,7,8,9)"
   ]
  },
  {
   "cell_type": "code",
   "execution_count": null,
   "id": "43e03561",
   "metadata": {},
   "outputs": [
    {
     "name": "stdout",
     "output_type": "stream",
     "text": [
      "name=SamZ\n",
      "age=21\n",
      "city=BBSR\n"
     ]
    }
   ],
   "source": [
    "#create a funtion that accept any no. of keyword arguments and print them in the form of key=value\n",
    "def print_kwargs(**kwargs):\n",
    "    for key,value in kwargs.items():\n",
    "        print(f\"{key}={value}\")\n",
    "print_kwargs(name = \"SamZ\", age = 21, city= \"BBSR\")\n"
   ]
  },
  {
   "cell_type": "code",
   "execution_count": 13,
   "id": "b3e58b4b",
   "metadata": {},
   "outputs": [
    {
     "data": {
      "text/plain": [
       "24"
      ]
     },
     "execution_count": 13,
     "metadata": {},
     "output_type": "execute_result"
    }
   ],
   "source": [
    "def recurr(n):\n",
    "    if(n==1 or n==0):\n",
    "        return 1\n",
    "    else:\n",
    "        return n*recurr(n-1)\n",
    "recurr(4)"
   ]
  },
  {
   "cell_type": "code",
   "execution_count": null,
   "id": "cddb6a65",
   "metadata": {},
   "outputs": [],
   "source": [
    "#write a function to check if a no. is prime\n",
    "def prime(n):\n",
    "    if n <= 1:\n",
    "        return False\n",
    "    for i in range(2, int(n**0.5) + 1):\n",
    "        if n % 2 == 0:\n",
    "            return False\n",
    "        return True\n",
    "num = int(input(\"enter a no. \"))\n",
    "if prime(num):\n",
    "    print(f\"is a prime no.\")\n",
    "else:\n",
    "    print(f\"is not a Prime no. \")"
   ]
  }
 ],
 "metadata": {
  "kernelspec": {
   "display_name": "Python 3",
   "language": "python",
   "name": "python3"
  },
  "language_info": {
   "codemirror_mode": {
    "name": "ipython",
    "version": 3
   },
   "file_extension": ".py",
   "mimetype": "text/x-python",
   "name": "python",
   "nbconvert_exporter": "python",
   "pygments_lexer": "ipython3",
   "version": "3.13.3"
  }
 },
 "nbformat": 4,
 "nbformat_minor": 5
}
