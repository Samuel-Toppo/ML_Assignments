{
 "cells": [
  {
   "cell_type": "code",
   "execution_count": 2,
   "id": "da69f1a4",
   "metadata": {},
   "outputs": [
    {
     "name": "stdout",
     "output_type": "stream",
     "text": [
      "hello world\n"
     ]
    },
    {
     "data": {
      "text/plain": [
       "False"
      ]
     },
     "execution_count": 2,
     "metadata": {},
     "output_type": "execute_result"
    }
   ],
   "source": [
    "print(\"hello world\")\n",
    "True and False"
   ]
  },
  {
   "cell_type": "code",
   "execution_count": 7,
   "id": "7f9e825f",
   "metadata": {},
   "outputs": [],
   "source": [
    "x = 500\n",
    "for x in range(0,100):\n",
    "    1"
   ]
  },
  {
   "cell_type": "code",
   "execution_count": 15,
   "id": "84264c4a",
   "metadata": {},
   "outputs": [
    {
     "name": "stdout",
     "output_type": "stream",
     "text": [
      "False\n",
      "False\n"
     ]
    }
   ],
   "source": [
    "print(13 not in range (12,16))\n",
    "print(17 in range (12,16))"
   ]
  },
  {
   "cell_type": "code",
   "execution_count": 11,
   "id": "98113e43",
   "metadata": {},
   "outputs": [
    {
     "name": "stdout",
     "output_type": "stream",
     "text": [
      "13\n"
     ]
    }
   ],
   "source": [
    "print(5|9)"
   ]
  },
  {
   "cell_type": "code",
   "execution_count": 13,
   "id": "95320e28",
   "metadata": {},
   "outputs": [
    {
     "name": "stdout",
     "output_type": "stream",
     "text": [
      "32\n"
     ]
    }
   ],
   "source": [
    "x=2\n",
    "print(x**5)"
   ]
  },
  {
   "cell_type": "code",
   "execution_count": 17,
   "id": "66cd1294",
   "metadata": {},
   "outputs": [
    {
     "name": "stdout",
     "output_type": "stream",
     "text": [
      "110000\n"
     ]
    }
   ],
   "source": [
    "income = 100000\n",
    "incertives = 10000\n",
    "total_income = income + incertives\n",
    "print(total_income)"
   ]
  },
  {
   "cell_type": "code",
   "execution_count": 18,
   "id": "633e9695",
   "metadata": {},
   "outputs": [
    {
     "name": "stdout",
     "output_type": "stream",
     "text": [
      "112550.5\n"
     ]
    }
   ],
   "source": [
    "income = 100000\n",
    "incertives = 12550.50\n",
    "total_income = income +incertives\n",
    "print(total_income)"
   ]
  },
  {
   "cell_type": "code",
   "execution_count": 20,
   "id": "e5f2eeed",
   "metadata": {},
   "outputs": [],
   "source": [
    "ketty_age = 28\n",
    "kenny_age = 25"
   ]
  },
  {
   "cell_type": "code",
   "execution_count": 21,
   "id": "92bc8e3a",
   "metadata": {},
   "outputs": [
    {
     "data": {
      "text/plain": [
       "False"
      ]
     },
     "execution_count": 21,
     "metadata": {},
     "output_type": "execute_result"
    }
   ],
   "source": [
    "ketty_age == kenny_age"
   ]
  },
  {
   "cell_type": "code",
   "execution_count": null,
   "id": "10ff6493",
   "metadata": {},
   "outputs": [
    {
     "data": {
      "text/plain": [
       "True"
      ]
     },
     "execution_count": 22,
     "metadata": {},
     "output_type": "execute_result"
    }
   ],
   "source": [
    "ketty_age <= kenny_age\n"
   ]
  },
  {
   "cell_type": "code",
   "execution_count": 25,
   "id": "6d574688",
   "metadata": {},
   "outputs": [
    {
     "data": {
      "text/plain": [
       "True"
      ]
     },
     "execution_count": 25,
     "metadata": {},
     "output_type": "execute_result"
    }
   ],
   "source": [
    "ketty_age >= kenny_age\n"
   ]
  },
  {
   "cell_type": "code",
   "execution_count": 24,
   "id": "7291b707",
   "metadata": {},
   "outputs": [
    {
     "data": {
      "text/plain": [
       "False"
      ]
     },
     "execution_count": 24,
     "metadata": {},
     "output_type": "execute_result"
    }
   ],
   "source": [
    "ketty_age < kenny_age\n"
   ]
  },
  {
   "cell_type": "code",
   "execution_count": 23,
   "id": "1482e3b4",
   "metadata": {},
   "outputs": [
    {
     "data": {
      "text/plain": [
       "True"
      ]
     },
     "execution_count": 23,
     "metadata": {},
     "output_type": "execute_result"
    }
   ],
   "source": [
    "ketty_age > kenny_age"
   ]
  },
  {
   "cell_type": "code",
   "execution_count": 26,
   "id": "bc2ba146",
   "metadata": {},
   "outputs": [],
   "source": [
    "is_student = True\n",
    "in_college = True\n",
    "in_school = False"
   ]
  },
  {
   "cell_type": "code",
   "execution_count": 28,
   "id": "97ade35a",
   "metadata": {},
   "outputs": [
    {
     "data": {
      "text/plain": [
       "True"
      ]
     },
     "execution_count": 28,
     "metadata": {},
     "output_type": "execute_result"
    }
   ],
   "source": [
    "is_student and in_college"
   ]
  },
  {
   "cell_type": "code",
   "execution_count": 29,
   "id": "b3e600ec",
   "metadata": {},
   "outputs": [
    {
     "data": {
      "text/plain": [
       "True"
      ]
     },
     "execution_count": 29,
     "metadata": {},
     "output_type": "execute_result"
    }
   ],
   "source": [
    "is_student or in_school"
   ]
  },
  {
   "cell_type": "code",
   "execution_count": 1,
   "id": "a13cb90b",
   "metadata": {},
   "outputs": [
    {
     "data": {
      "text/plain": [
       "False"
      ]
     },
     "execution_count": 1,
     "metadata": {},
     "output_type": "execute_result"
    }
   ],
   "source": [
    "number = 10\n",
    "(number % 2 == 0) & (number % 3 == 0)"
   ]
  },
  {
   "cell_type": "code",
   "execution_count": 2,
   "id": "793faa98",
   "metadata": {},
   "outputs": [
    {
     "data": {
      "text/plain": [
       "True"
      ]
     },
     "execution_count": 2,
     "metadata": {},
     "output_type": "execute_result"
    }
   ],
   "source": [
    "number = 10\n",
    "(number % 2 == 0) | (number % 3 == 0)"
   ]
  },
  {
   "cell_type": "code",
   "execution_count": null,
   "id": "f8cd2758",
   "metadata": {},
   "outputs": [
    {
     "name": "stdout",
     "output_type": "stream",
     "text": [
      "8 is greater than zero\n",
      "thisis always printed\n"
     ]
    }
   ],
   "source": [
    "num = 8\n",
    "if(num > 2):\n",
    "    print(num, \"is greater than zero\")\n",
    "print(\"this is always printed\")"
   ]
  },
  {
   "cell_type": "code",
   "execution_count": 8,
   "id": "45d0679e",
   "metadata": {},
   "outputs": [
    {
     "name": "stdout",
     "output_type": "stream",
     "text": [
      "this is always printed\n"
     ]
    }
   ],
   "source": [
    "num = -1\n",
    "if(num > 0):\n",
    "    print(num, \"is greater than zero\")\n",
    "print(\"this is always printed\")"
   ]
  },
  {
   "cell_type": "code",
   "execution_count": 2,
   "id": "1e128e82",
   "metadata": {},
   "outputs": [
    {
     "name": "stdout",
     "output_type": "stream",
     "text": [
      "-1 is less than zero\n",
      "This is always printed\n"
     ]
    }
   ],
   "source": [
    "num =-1\n",
    "if(num > 0):\n",
    "    print(num, \"is greter than zero\")\n",
    "else:\n",
    "    print(num, \"is less than zero\")\n",
    "print(\"This is always printed\")"
   ]
  },
  {
   "cell_type": "code",
   "execution_count": 4,
   "id": "91cdf408",
   "metadata": {},
   "outputs": [
    {
     "name": "stdout",
     "output_type": "stream",
     "text": [
      "no fares for age group 0-3\n"
     ]
    }
   ],
   "source": [
    "age = int(input(\"enter age: \"))\n",
    "if(0 < age < 3):\n",
    "    print(\"no fares for age group 0-3\")\n",
    "elif(3 < age < 10):\n",
    "    print(\"bus fare is 20\")\n",
    "elif(10 < age < 20):\n",
    "    print(\"bus fare is 25\")\n",
    "else:\n",
    "    print(\"bus fare is 30\")"
   ]
  },
  {
   "cell_type": "code",
   "execution_count": 12,
   "id": "abd29dcb",
   "metadata": {},
   "outputs": [
    {
     "name": "stdout",
     "output_type": "stream",
     "text": [
      "55 is greater\n"
     ]
    }
   ],
   "source": [
    "num1 = 10\n",
    "num2 = 30\n",
    "num3 = 55\n",
    "if (num1 > num2):\n",
    "    print(num1, \"is greater\")\n",
    "else:\n",
    "    if (num3 > num2):\n",
    "        print(num3, \"is greater\")\n",
    "    else:\n",
    "        print(num2, \"is greater\")"
   ]
  },
  {
   "cell_type": "code",
   "execution_count": 16,
   "id": "fd87cb01",
   "metadata": {},
   "outputs": [
    {
     "name": "stdout",
     "output_type": "stream",
     "text": [
      "the greatest no. is 18\n"
     ]
    }
   ],
   "source": [
    "a = int(input(\"enter first no. :\"))\n",
    "b = int(input(\"enter seconf no. :\"))\n",
    "c = int(input(\"enter third no. :\"))\n",
    "\n",
    "if a >= b:\n",
    "    if a>= c:\n",
    "        greatest = a\n",
    "    else:\n",
    "        greatest = c\n",
    "else:\n",
    "    if b >= c:\n",
    "        greatest = b\n",
    "    else:\n",
    "        greatest = c\n",
    "print(\"the greatest no. is\", greatest)"
   ]
  },
  {
   "cell_type": "code",
   "execution_count": 17,
   "id": "b806c011",
   "metadata": {},
   "outputs": [
    {
     "name": "stdout",
     "output_type": "stream",
     "text": [
      "addition is:  55\n"
     ]
    }
   ],
   "source": [
    "num = 10\n",
    "addition = 0\n",
    "i = 1\n",
    "while(i <= num):\n",
    "    addition = addition + i\n",
    "    i = i + 1\n",
    "print(\"addition is: \", addition)"
   ]
  },
  {
   "cell_type": "code",
   "execution_count": 18,
   "id": "95aeef88",
   "metadata": {},
   "outputs": [
    {
     "name": "stdout",
     "output_type": "stream",
     "text": [
      "addition is :  55\n"
     ]
    }
   ],
   "source": [
    "number = range(1, 11)\n",
    "addition = 0\n",
    "for i in number:\n",
    "    addition = addition + i\n",
    "print(\"addition is : \", addition)"
   ]
  },
  {
   "cell_type": "code",
   "execution_count": 1,
   "id": "7aa06930",
   "metadata": {},
   "outputs": [
    {
     "name": "stdout",
     "output_type": "stream",
     "text": [
      "K\n",
      "n\n",
      "o\n",
      "w\n",
      "l\n",
      "e\n",
      "d\n",
      "g\n",
      "e\n",
      "The loop skipped a space here\n",
      "H\n",
      "u\n",
      "t\n"
     ]
    }
   ],
   "source": [
    "text = \"Knowledge Hut\"\n",
    "for letter in text:\n",
    "    if letter == ' ':\n",
    "        print(\"The loop skipped a space here\")\n",
    "        continue\n",
    "    print(letter)"
   ]
  },
  {
   "cell_type": "code",
   "execution_count": 3,
   "id": "f148f002",
   "metadata": {},
   "outputs": [
    {
     "name": "stdout",
     "output_type": "stream",
     "text": [
      "1 2 2 3 3 3 4 4 4 4 5 5 5 5 5 \n",
      "\n"
     ]
    }
   ],
   "source": [
    "levels = int(input(\"enter no. of levels: \"))\n",
    "for level in range(1, levels+1):\n",
    "    for num in range(level):\n",
    "        print(level, end=\" \")\n",
    "print(\"\\n\")"
   ]
  },
  {
   "cell_type": "code",
   "execution_count": 4,
   "id": "7261f317",
   "metadata": {},
   "outputs": [
    {
     "name": "stdout",
     "output_type": "stream",
     "text": [
      "Hii SamZ\n"
     ]
    }
   ],
   "source": [
    "name = input(\"enter your name: \")\n",
    "print(\"Hii\", name)"
   ]
  },
  {
   "cell_type": "code",
   "execution_count": 5,
   "id": "3e7ce943",
   "metadata": {},
   "outputs": [
    {
     "name": "stdout",
     "output_type": "stream",
     "text": [
      "Hello SamZ\n"
     ]
    }
   ],
   "source": [
    "def greet(name):\n",
    "    print(\"Hello\", name)\n",
    "greet(\"SamZ\")"
   ]
  },
  {
   "cell_type": "code",
   "execution_count": 14,
   "id": "67ac25b3",
   "metadata": {},
   "outputs": [],
   "source": [
    "#write a function to calculate and return sum of the nos.\n",
    "def sum(x, y):\n",
    "    z = x + y\n",
    "    # return z\n",
    "result = sum(5, 7)\n",
    "# print(result)\n",
    "# print(sum(5,6))\n",
    "# print(z)"
   ]
  },
  {
   "cell_type": "code",
   "execution_count": 25,
   "id": "0e2b3515",
   "metadata": {},
   "outputs": [
    {
     "name": "stdout",
     "output_type": "stream",
     "text": [
      "the area of circle is 2 is 12.56\n",
      "the circumference of circle is 2 is 12.56\n"
     ]
    }
   ],
   "source": [
    "#create a function that return both area and circumference of a circle given its radidus\n",
    "PI = 3.14\n",
    "def circle(a):\n",
    "    print(\"the area of circle is\", a,\"is\", PI * a**2)\n",
    "    print(\"the circumference of circle is\", a, \"is\", 2*PI*a)\n",
    "circle(2)"
   ]
  },
  {
   "cell_type": "code",
   "execution_count": null,
   "id": "19f46dc3",
   "metadata": {},
   "outputs": [
    {
     "name": "stdout",
     "output_type": "stream",
     "text": [
      "my name \n",
      "my name SamZ\n"
     ]
    }
   ],
   "source": [
    "#write a function that greet a user if no name is provided it shoukd greet with default name\n",
    "def defFunction(name = \"SamZ\"):\n",
    "    print(\"my name\", name)\n",
    "defFunction(\"Python\")\n",
    "defFunction()"
   ]
  },
  {
   "cell_type": "code",
   "execution_count": 28,
   "id": "706dc6af",
   "metadata": {},
   "outputs": [
    {
     "name": "stdout",
     "output_type": "stream",
     "text": [
      "4\n"
     ]
    }
   ],
   "source": [
    "#lambda function \n",
    "sq = lambda x : x**2\n",
    "print(sq(2))"
   ]
  },
  {
   "cell_type": "code",
   "execution_count": 1,
   "id": "3028a06b",
   "metadata": {},
   "outputs": [
    {
     "name": "stdout",
     "output_type": "stream",
     "text": [
      "10\n"
     ]
    }
   ],
   "source": [
    "def sum_all(*args):\n",
    "    return sum(args)\n",
    "print(sum_all(1,2,3,4))\n",
    "# print(sum_all(1,2,3,4,5,6,7))\n"
   ]
  },
  {
   "cell_type": "code",
   "execution_count": 2,
   "id": "9c721de8",
   "metadata": {},
   "outputs": [
    {
     "name": "stdout",
     "output_type": "stream",
     "text": [
      "45\n"
     ]
    }
   ],
   "source": [
    "def func(*args):\n",
    "    sum = 0\n",
    "    for i in args:\n",
    "        sum += i\n",
    "    print(sum)\n",
    "func(1,2,3,4,5,6,7,8,9)"
   ]
  },
  {
   "cell_type": "code",
   "execution_count": null,
   "id": "43e03561",
   "metadata": {},
   "outputs": [
    {
     "name": "stdout",
     "output_type": "stream",
     "text": [
      "name=SamZ\n",
      "age=21\n",
      "city=BBSR\n"
     ]
    }
   ],
   "source": [
    "#create a funtion that accept any no. of keyword arguments and print them in the form of key=value\n",
    "def print_kwargs(**kwargs):\n",
    "    for key,value in kwargs.items():\n",
    "        print(f\"{key}={value}\")\n",
    "print_kwargs(name = \"SamZ\", age = 21, city= \"BBSR\")\n"
   ]
  },
  {
   "cell_type": "code",
   "execution_count": 13,
   "id": "b3e58b4b",
   "metadata": {},
   "outputs": [
    {
     "data": {
      "text/plain": [
       "24"
      ]
     },
     "execution_count": 13,
     "metadata": {},
     "output_type": "execute_result"
    }
   ],
   "source": [
    "def recurr(n):\n",
    "    if(n==1 or n==0):\n",
    "        return 1\n",
    "    else:\n",
    "        return n*recurr(n-1)\n",
    "recurr(4)"
   ]
  },
  {
   "cell_type": "code",
   "execution_count": 3,
   "id": "cddb6a65",
   "metadata": {},
   "outputs": [
    {
     "name": "stdout",
     "output_type": "stream",
     "text": [
      "2 is not a Prime no. \n"
     ]
    }
   ],
   "source": [
    "#write a function to check if a no. is prime\n",
    "def prime(n):\n",
    "    if n <= 1:\n",
    "        return False\n",
    "    for i in range(2, int(n**0.5) + 1):\n",
    "        if n % 2 == 0:\n",
    "            return False\n",
    "        return True\n",
    "num = int(input(\"enter a no. \"))\n",
    "if prime(num):\n",
    "    print(f\"{num} is a prime no.\")\n",
    "else:\n",
    "    print(f\"{num} is not a Prime no. \")"
   ]
  },
  {
   "cell_type": "code",
   "execution_count": 8,
   "id": "7e6bb336",
   "metadata": {},
   "outputs": [
    {
     "name": "stdout",
     "output_type": "stream",
     "text": [
      "the area of the rectangle is 8\n"
     ]
    }
   ],
   "source": [
    "#create a function to calculate the area of a rectangle\n",
    "def retangle(l, b):\n",
    "    return l * b\n",
    "l = int(input(f\"enter the length : \"))\n",
    "b = int(input(f\"enter the breadth : \"))\n",
    "area = retangle(l, b)\n",
    "print(f\"the area of the rectangle is {area}\")"
   ]
  },
  {
   "cell_type": "code",
   "execution_count": 11,
   "id": "527512df",
   "metadata": {},
   "outputs": [
    {
     "data": {
      "text/plain": [
       "4"
      ]
     },
     "execution_count": 11,
     "metadata": {},
     "output_type": "execute_result"
    }
   ],
   "source": [
    "#craete a function to find the maximum of three nos.\n",
    "def max(a, b, c):\n",
    "    if(a >= b and a >= c):\n",
    "        return a\n",
    "    elif(b >= a and b >= c):\n",
    "        return b\n",
    "    else:\n",
    "        return c\n",
    "max(1,4,2)"
   ]
  },
  {
   "cell_type": "code",
   "execution_count": 13,
   "id": "45b991fe",
   "metadata": {},
   "outputs": [
    {
     "name": "stdout",
     "output_type": "stream",
     "text": [
      "John\n"
     ]
    }
   ],
   "source": [
    "username = \"John\"\n",
    "def function():\n",
    "    username = \"sumit\"\n",
    "function()\n",
    "print(username)"
   ]
  },
  {
   "cell_type": "code",
   "execution_count": null,
   "id": "a6924c35",
   "metadata": {},
   "outputs": [
    {
     "name": "stdout",
     "output_type": "stream",
     "text": [
      "brand of the car is : Ford\n",
      "model of the car is : Mustang\n"
     ]
    }
   ],
   "source": [
    "class Car:\n",
    "    def __init__(self, brand, model):\n",
    "        self.brand = brand\n",
    "        self.model = model\n",
    "\n",
    "    def my_brand(self):\n",
    "        print(f\"brand of the car is : {self.brand}\")\n",
    "\n",
    "    def my_model(self):\n",
    "        print(f\"model of the car is : {self.model}\")\n",
    "my_new_car = Car(\"Ford\", \"Mustang\")\n",
    "my_new_car.my_brand()\n",
    "my_new_car.my_model() \n"
   ]
  },
  {
   "cell_type": "code",
   "execution_count": null,
   "id": "294e726a",
   "metadata": {},
   "outputs": [
    {
     "ename": "TypeError",
     "evalue": "Electric_Car() takes no arguments",
     "output_type": "error",
     "traceback": [
      "\u001b[31m---------------------------------------------------------------------------\u001b[39m",
      "\u001b[31mTypeError\u001b[39m                                 Traceback (most recent call last)",
      "\u001b[36mCell\u001b[39m\u001b[36m \u001b[39m\u001b[32mIn[45]\u001b[39m\u001b[32m, line 7\u001b[39m\n\u001b[32m      5\u001b[39m     \u001b[38;5;28;01mdef\u001b[39;00m\u001b[38;5;250m \u001b[39m\u001b[34mshowCharge\u001b[39m(\u001b[38;5;28mself\u001b[39m):\n\u001b[32m      6\u001b[39m         \u001b[38;5;28mprint\u001b[39m(\u001b[33mf\u001b[39m\u001b[33m\"\u001b[39m\u001b[33mcharge of the car is : \u001b[39m\u001b[38;5;132;01m{\u001b[39;00m\u001b[38;5;28mself\u001b[39m.charge\u001b[38;5;132;01m}\u001b[39;00m\u001b[33m\"\u001b[39m)\n\u001b[32m----> \u001b[39m\u001b[32m7\u001b[39m my_new_car = \u001b[43mElectric_Car\u001b[49m\u001b[43m(\u001b[49m\u001b[32;43m60\u001b[39;49m\u001b[43m)\u001b[49m\n\u001b[32m      8\u001b[39m my_new_car.showCharge()\n",
      "\u001b[31mTypeError\u001b[39m: Electric_Car() takes no arguments"
     ]
    }
   ],
   "source": [
    "class Electric_Car:\n",
    "    def __init_(self,charge):\n",
    "        self.charge = charge\n",
    "        super().__init__(brand, model)\n",
    "    def showCharge(self):\n",
    "        print(f\"charge of the car is : {self.charge}\")\n",
    "my_new_car = Electric_Car(60)\n",
    "my_new_car.showCharge()\n",
    " "
   ]
  },
  {
   "cell_type": "code",
   "execution_count": 8,
   "id": "6fea26f6",
   "metadata": {},
   "outputs": [
    {
     "name": "stdout",
     "output_type": "stream",
     "text": [
      "[1 2 3]\n"
     ]
    }
   ],
   "source": [
    "import numpy as np\n",
    "arr = np.array([1,2,3])\n",
    "print(arr)"
   ]
  },
  {
   "cell_type": "code",
   "execution_count": 2,
   "id": "b0dbe7e2",
   "metadata": {},
   "outputs": [
    {
     "name": "stdout",
     "output_type": "stream",
     "text": [
      "[[[1 2 3]\n",
      "  [4 5 6]\n",
      "  [6 7 8]]]\n"
     ]
    }
   ],
   "source": [
    "import numpy as np \n",
    "arr =  np.array([[[1,2,3],[4,5,6],[6,7,8]]])\n",
    "print(arr)"
   ]
  },
  {
   "cell_type": "code",
   "execution_count": 22,
   "id": "b7eaf75f",
   "metadata": {},
   "outputs": [
    {
     "name": "stdout",
     "output_type": "stream",
     "text": [
      "python list multiplication [1, 2, 3]\n",
      "np array multiplication:  [1, 2, 3, 1, 2, 3]\n"
     ]
    }
   ],
   "source": [
    "py_list = [1,2,3]\n",
    "print(\"python list multiplication\", py_list)\n",
    "np_array = np.array = [1,2,3]\n",
    "print(\"np array multiplication: \", np_array * 2)"
   ]
  },
  {
   "cell_type": "code",
   "execution_count": 23,
   "id": "5e696f0e",
   "metadata": {},
   "outputs": [
    {
     "data": {
      "text/plain": [
       "array([[1., 1., 1., 1.],\n",
       "       [1., 1., 1., 1.],\n",
       "       [1., 1., 1., 1.]])"
      ]
     },
     "execution_count": 23,
     "metadata": {},
     "output_type": "execute_result"
    }
   ],
   "source": [
    "ones = np.ones((3,4))\n",
    "ones"
   ]
  },
  {
   "cell_type": "code",
   "execution_count": 25,
   "id": "d207f0d3",
   "metadata": {},
   "outputs": [
    {
     "name": "stdout",
     "output_type": "stream",
     "text": [
      "[[0. 0. 0. 0.]\n",
      " [0. 0. 0. 0.]\n",
      " [0. 0. 0. 0.]]\n"
     ]
    }
   ],
   "source": [
    "zeros = np.zeros((3,4))\n",
    "print(zeros)"
   ]
  },
  {
   "cell_type": "code",
   "execution_count": 28,
   "id": "b0695ccf",
   "metadata": {},
   "outputs": [
    {
     "name": "stdout",
     "output_type": "stream",
     "text": [
      "[[1. 0. 0. 0. 0.]\n",
      " [0. 1. 0. 0. 0.]\n",
      " [0. 0. 1. 0. 0.]\n",
      " [0. 0. 0. 1. 0.]\n",
      " [0. 0. 0. 0. 1.]]\n"
     ]
    }
   ],
   "source": [
    "arr = np.eye(5)\n",
    "print(arr)"
   ]
  },
  {
   "cell_type": "code",
   "execution_count": 40,
   "id": "39b1ed26",
   "metadata": {},
   "outputs": [
    {
     "name": "stdout",
     "output_type": "stream",
     "text": [
      "[  0.  20.  40.  60.  80. 100.]\n"
     ]
    }
   ],
   "source": [
    "arr = np.linspace(0, 100, 6)\n",
    "print(arr)"
   ]
  },
  {
   "cell_type": "code",
   "execution_count": 45,
   "id": "a6ae3e45",
   "metadata": {},
   "outputs": [
    {
     "name": "stdout",
     "output_type": "stream",
     "text": [
      "[0 3 6 9]\n"
     ]
    }
   ],
   "source": [
    "arr = np.arange(0, 10, 3)\n",
    "print(arr)"
   ]
  },
  {
   "cell_type": "code",
   "execution_count": 46,
   "id": "f2deb90b",
   "metadata": {},
   "outputs": [
    {
     "name": "stdout",
     "output_type": "stream",
     "text": [
      "[[8 8 8]\n",
      " [8 8 8]]\n"
     ]
    }
   ],
   "source": [
    "arr = np.full((2, 3), 8)\n",
    "print(arr)"
   ]
  },
  {
   "cell_type": "code",
   "execution_count": 3,
   "id": "13f796b8",
   "metadata": {},
   "outputs": [
    {
     "name": "stdout",
     "output_type": "stream",
     "text": [
      "[[0.6901364  0.67903278 0.00578619 0.93624561 0.9930718 ]\n",
      " [0.81536259 0.66300546 0.12174094 0.2070931  0.51965195]\n",
      " [0.65264734 0.69031457 0.01040525 0.84275706 0.25595354]\n",
      " [0.45979044 0.52602681 0.42040973 0.56046924 0.99982505]]\n"
     ]
    }
   ],
   "source": [
    "arr = np.random.rand(4,5)\n",
    "print(arr)"
   ]
  },
  {
   "cell_type": "code",
   "execution_count": 26,
   "id": "7e06b2df",
   "metadata": {},
   "outputs": [
    {
     "name": "stdout",
     "output_type": "stream",
     "text": [
      "[[11.69561074 70.99044238 43.04279982 50.01999645 72.55476548 44.48386232\n",
      "  34.22821074]\n",
      " [26.43376304 52.63799201 61.86114184 10.68085284  7.56020138 86.56239638\n",
      "  57.61028571]\n",
      " [69.23516493 93.06538055 52.02802783 20.3405143  80.196836   89.97633022\n",
      "  21.95321499]\n",
      " [55.92159844  6.82526532 79.91718258 68.11963838 13.69437651 31.36119482\n",
      "   7.31722592]\n",
      " [51.82732651 52.20463065 98.94110658 62.65433763  6.90274197 11.31170981\n",
      "  57.79494302]\n",
      " [14.90101136 31.68864952 81.35718134 18.48750076 66.60698477 18.88304243\n",
      "  82.3939944 ]]\n"
     ]
    }
   ],
   "source": [
    "arr = np.random.rand(6, 7) * 100\n",
    "print(arr)"
   ]
  },
  {
   "cell_type": "code",
   "execution_count": 19,
   "id": "4c5fe190",
   "metadata": {},
   "outputs": [
    {
     "name": "stdout",
     "output_type": "stream",
     "text": [
      "[[2 2 0]]\n"
     ]
    }
   ],
   "source": [
    "arr = np.random.randint(5, size = (1, 3))\n",
    "print(arr) "
   ]
  },
  {
   "cell_type": "code",
   "execution_count": null,
   "id": "ded78cf7",
   "metadata": {},
   "outputs": [],
   "source": []
  },
  {
   "cell_type": "code",
   "execution_count": 18,
   "id": "4cb80ec3",
   "metadata": {},
   "outputs": [
    {
     "data": {
      "text/plain": [
       "array([], shape=(0, 2), dtype=bool)"
      ]
     },
     "execution_count": 18,
     "metadata": {},
     "output_type": "execute_result"
    }
   ],
   "source": [
    "arr.astype(bool)"
   ]
  },
  {
   "cell_type": "code",
   "execution_count": 17,
   "id": "bcda6f8e",
   "metadata": {},
   "outputs": [
    {
     "data": {
      "text/plain": [
       "[]"
      ]
     },
     "execution_count": 17,
     "metadata": {},
     "output_type": "execute_result"
    }
   ],
   "source": [
    "arr.tolist()"
   ]
  },
  {
   "cell_type": "code",
   "execution_count": 3,
   "id": "59690e98",
   "metadata": {},
   "outputs": [
    {
     "name": "stdout",
     "output_type": "stream",
     "text": [
      " eye(N, M=None, k=0, dtype=<class 'float'>, order='C', *, device=None,\n",
      "     like=None)\n",
      "\n",
      "Return a 2-D array with ones on the diagonal and zeros elsewhere.\n",
      "\n",
      "Parameters\n",
      "----------\n",
      "N : int\n",
      "  Number of rows in the output.\n",
      "M : int, optional\n",
      "  Number of columns in the output. If None, defaults to `N`.\n",
      "k : int, optional\n",
      "  Index of the diagonal: 0 (the default) refers to the main diagonal,\n",
      "  a positive value refers to an upper diagonal, and a negative value\n",
      "  to a lower diagonal.\n",
      "dtype : data-type, optional\n",
      "  Data-type of the returned array.\n",
      "order : {'C', 'F'}, optional\n",
      "    Whether the output should be stored in row-major (C-style) or\n",
      "    column-major (Fortran-style) order in memory.\n",
      "device : str, optional\n",
      "    The device on which to place the created array. Default: None.\n",
      "    For Array-API interoperability only, so must be ``\"cpu\"`` if passed.\n",
      "\n",
      "    .. versionadded:: 2.0.0\n",
      "like : array_like, optional\n",
      "        Reference object to allow the creation of arrays which are not\n",
      "        NumPy arrays. If an array-like passed in as ``like`` supports\n",
      "        the ``__array_function__`` protocol, the result will be defined\n",
      "        by it. In this case, it ensures the creation of an array object\n",
      "        compatible with that passed in via this argument.\n",
      "\n",
      "    .. versionadded:: 1.20.0\n",
      "\n",
      "Returns\n",
      "-------\n",
      "I : ndarray of shape (N,M)\n",
      "  An array where all elements are equal to zero, except for the `k`-th\n",
      "  diagonal, whose values are equal to one.\n",
      "\n",
      "See Also\n",
      "--------\n",
      "identity : (almost) equivalent function\n",
      "diag : diagonal 2-D array from a 1-D array specified by the user.\n",
      "\n",
      "Examples\n",
      "--------\n",
      ">>> import numpy as np\n",
      ">>> np.eye(2, dtype=int)\n",
      "array([[1, 0],\n",
      "       [0, 1]])\n",
      ">>> np.eye(3, k=1)\n",
      "array([[0.,  1.,  0.],\n",
      "       [0.,  0.,  1.],\n",
      "       [0.,  0.,  0.]])\n"
     ]
    }
   ],
   "source": [
    "np.info(np.eye)"
   ]
  },
  {
   "cell_type": "code",
   "execution_count": 4,
   "id": "2b475713",
   "metadata": {},
   "outputs": [
    {
     "data": {
      "text/plain": [
       "9"
      ]
     },
     "execution_count": 4,
     "metadata": {},
     "output_type": "execute_result"
    }
   ],
   "source": [
    "arr.size"
   ]
  },
  {
   "cell_type": "code",
   "execution_count": 5,
   "id": "bc261c38",
   "metadata": {},
   "outputs": [
    {
     "data": {
      "text/plain": [
       "(1, 3, 3)"
      ]
     },
     "execution_count": 5,
     "metadata": {},
     "output_type": "execute_result"
    }
   ],
   "source": [
    "arr.shape"
   ]
  },
  {
   "cell_type": "code",
   "execution_count": 20,
   "id": "261e9594",
   "metadata": {},
   "outputs": [
    {
     "data": {
      "text/plain": [
       "dtype('float64')"
      ]
     },
     "execution_count": 20,
     "metadata": {},
     "output_type": "execute_result"
    }
   ],
   "source": [
    "arr = np.random.rand(0, 2)\n",
    "arr.dtype"
   ]
  },
  {
   "cell_type": "code",
   "execution_count": 22,
   "id": "8ebb0ff5",
   "metadata": {},
   "outputs": [
    {
     "data": {
      "text/plain": [
       "array([], shape=(0, 2), dtype=int64)"
      ]
     },
     "execution_count": 22,
     "metadata": {},
     "output_type": "execute_result"
    }
   ],
   "source": [
    "arr.view(int)"
   ]
  },
  {
   "cell_type": "code",
   "execution_count": 32,
   "id": "781163f1",
   "metadata": {},
   "outputs": [
    {
     "ename": "ValueError",
     "evalue": "The truth value of an array with more than one element is ambiguous. Use a.any() or a.all()",
     "output_type": "error",
     "traceback": [
      "\u001b[31m---------------------------------------------------------------------------\u001b[39m",
      "\u001b[31mValueError\u001b[39m                                Traceback (most recent call last)",
      "\u001b[36mCell\u001b[39m\u001b[36m \u001b[39m\u001b[32mIn[32]\u001b[39m\u001b[32m, line 3\u001b[39m\n\u001b[32m      1\u001b[39m arr = np.random.rand(\u001b[32m2\u001b[39m, \u001b[32m6\u001b[39m)\n\u001b[32m----> \u001b[39m\u001b[32m3\u001b[39m arr1=\u001b[38;5;28;43msorted\u001b[39;49m\u001b[43m(\u001b[49m\u001b[43marr\u001b[49m\u001b[43m)\u001b[49m\n\u001b[32m      4\u001b[39m \u001b[38;5;28mprint\u001b[39m(arr1)\n",
      "\u001b[31mValueError\u001b[39m: The truth value of an array with more than one element is ambiguous. Use a.any() or a.all()"
     ]
    }
   ],
   "source": [
    "arr = np.random.rand(2, 6)\n",
    "\n",
    "arr1=sorted(arr)\n",
    "print(arr1)"
   ]
  },
  {
   "cell_type": "code",
   "execution_count": 38,
   "id": "0684a422",
   "metadata": {},
   "outputs": [
    {
     "name": "stdout",
     "output_type": "stream",
     "text": [
      "[[1 2 3]\n",
      " [4 5 6]]\n"
     ]
    },
    {
     "data": {
      "text/plain": [
       "array([1, 2, 3, 4, 5, 6])"
      ]
     },
     "execution_count": 38,
     "metadata": {},
     "output_type": "execute_result"
    }
   ],
   "source": [
    "arr = np.array([(1,2,3),(4,5,6)])\n",
    "print(arr)\n",
    "arr.flatten()"
   ]
  },
  {
   "cell_type": "code",
   "execution_count": 39,
   "id": "7f27ff87",
   "metadata": {},
   "outputs": [
    {
     "data": {
      "text/plain": [
       "array([[1, 4],\n",
       "       [2, 5],\n",
       "       [3, 6]])"
      ]
     },
     "execution_count": 39,
     "metadata": {},
     "output_type": "execute_result"
    }
   ],
   "source": [
    "arr.T"
   ]
  },
  {
   "cell_type": "code",
   "execution_count": 3,
   "id": "a9f27bd7",
   "metadata": {},
   "outputs": [
    {
     "ename": "NameError",
     "evalue": "name 'np' is not defined",
     "output_type": "error",
     "traceback": [
      "\u001b[31m---------------------------------------------------------------------------\u001b[39m",
      "\u001b[31mNameError\u001b[39m                                 Traceback (most recent call last)",
      "\u001b[36mCell\u001b[39m\u001b[36m \u001b[39m\u001b[32mIn[3]\u001b[39m\u001b[32m, line 1\u001b[39m\n\u001b[32m----> \u001b[39m\u001b[32m1\u001b[39m arr = \u001b[43mnp\u001b[49m.array([\u001b[32m1\u001b[39m,\u001b[32m2\u001b[39m,\u001b[32m3\u001b[39m,\u001b[32m4\u001b[39m,\u001b[32m5\u001b[39m,\u001b[32m6\u001b[39m])\n\u001b[32m      2\u001b[39m arr.reshape(\u001b[32m3\u001b[39m,\u001b[32m4\u001b[39m)\n\u001b[32m      3\u001b[39m \u001b[38;5;28mprint\u001b[39m(arr)\n",
      "\u001b[31mNameError\u001b[39m: name 'np' is not defined"
     ]
    }
   ],
   "source": [
    "arr = np.array([1,2,3,4,5,6])\n",
    "arr.reshape(3,4)\n",
    "print(arr)"
   ]
  },
  {
   "cell_type": "code",
   "execution_count": null,
   "id": "17d58b5a",
   "metadata": {},
   "outputs": [
    {
     "data": {
      "text/plain": [
       "array([1, 2, 3])"
      ]
     },
     "execution_count": 3,
     "metadata": {},
     "output_type": "execute_result"
    }
   ],
   "source": [
    "import numpy as np\n",
    "arr = np.array([1,2,3])\n",
    "arr"
   ]
  },
  {
   "cell_type": "code",
   "execution_count": 5,
   "id": "3b3c7daa",
   "metadata": {},
   "outputs": [
    {
     "data": {
      "text/plain": [
       "array([1, 2, 3, 2])"
      ]
     },
     "execution_count": 5,
     "metadata": {},
     "output_type": "execute_result"
    }
   ],
   "source": [
    "np.append(arr, 2)"
   ]
  },
  {
   "cell_type": "code",
   "execution_count": 7,
   "id": "99699973",
   "metadata": {},
   "outputs": [
    {
     "data": {
      "text/plain": [
       "array([1, 2, 5, 3])"
      ]
     },
     "execution_count": 7,
     "metadata": {},
     "output_type": "execute_result"
    }
   ],
   "source": [
    "np.insert(arr, 2, 5)"
   ]
  },
  {
   "cell_type": "code",
   "execution_count": 42,
   "id": "8e97b415",
   "metadata": {},
   "outputs": [
    {
     "name": "stdout",
     "output_type": "stream",
     "text": [
      "[1 2 3]\n"
     ]
    }
   ],
   "source": [
    "print(arr)"
   ]
  },
  {
   "cell_type": "code",
   "execution_count": 16,
   "id": "7f474e2b",
   "metadata": {},
   "outputs": [
    {
     "data": {
      "text/plain": [
       "array([[1, 2, 3],\n",
       "       [4, 5, 6]])"
      ]
     },
     "execution_count": 16,
     "metadata": {},
     "output_type": "execute_result"
    }
   ],
   "source": [
    "arr1 = np.array([[1,2,3],[4,5,6]])\n",
    "arr1"
   ]
  },
  {
   "cell_type": "code",
   "execution_count": 18,
   "id": "3f3f6598",
   "metadata": {},
   "outputs": [
    {
     "data": {
      "text/plain": [
       "array([[ 7,  8,  9],\n",
       "       [10, 11, 12]])"
      ]
     },
     "execution_count": 18,
     "metadata": {},
     "output_type": "execute_result"
    }
   ],
   "source": [
    "arr2 = np.array([[7,8,9],[10,11,12]])\n",
    "arr2"
   ]
  },
  {
   "cell_type": "code",
   "execution_count": 40,
   "id": "290d4ef2",
   "metadata": {},
   "outputs": [
    {
     "data": {
      "text/plain": [
       "array([[ 1,  2,  3,  7,  8,  9],\n",
       "       [ 4,  5,  6, 10, 11, 12]])"
      ]
     },
     "execution_count": 40,
     "metadata": {},
     "output_type": "execute_result"
    }
   ],
   "source": [
    "np.concatenate((arr1, arr2), axis=1)"
   ]
  },
  {
   "cell_type": "code",
   "execution_count": 26,
   "id": "4876dc8f",
   "metadata": {},
   "outputs": [
    {
     "data": {
      "text/plain": [
       "[array([1]), array([2]), array([3])]"
      ]
     },
     "execution_count": 26,
     "metadata": {},
     "output_type": "execute_result"
    }
   ],
   "source": [
    "np.split(arr, 3)"
   ]
  },
  {
   "cell_type": "code",
   "execution_count": 34,
   "id": "d3b4da87",
   "metadata": {},
   "outputs": [
    {
     "data": {
      "text/plain": [
       "[array([1]), array([2]), array([3])]"
      ]
     },
     "execution_count": 34,
     "metadata": {},
     "output_type": "execute_result"
    }
   ],
   "source": [
    "np.hsplit(arr, 3)"
   ]
  },
  {
   "cell_type": "code",
   "execution_count": 48,
   "id": "0cc772db",
   "metadata": {},
   "outputs": [
    {
     "data": {
      "text/plain": [
       "np.int64(2)"
      ]
     },
     "execution_count": 48,
     "metadata": {},
     "output_type": "execute_result"
    }
   ],
   "source": [
    "arr[1]"
   ]
  },
  {
   "cell_type": "code",
   "execution_count": 53,
   "id": "79b19dcb",
   "metadata": {},
   "outputs": [
    {
     "data": {
      "text/plain": [
       "np.int64(3)"
      ]
     },
     "execution_count": 53,
     "metadata": {},
     "output_type": "execute_result"
    }
   ],
   "source": [
    "arr1[0,2]"
   ]
  },
  {
   "cell_type": "code",
   "execution_count": 56,
   "id": "8a547f42",
   "metadata": {},
   "outputs": [
    {
     "name": "stdout",
     "output_type": "stream",
     "text": [
      "[1 4 3]\n"
     ]
    }
   ],
   "source": [
    "arr[1]=4\n",
    "print(arr)"
   ]
  },
  {
   "cell_type": "code",
   "execution_count": 64,
   "id": "017e3a37",
   "metadata": {},
   "outputs": [
    {
     "data": {
      "text/plain": [
       "array([4, 3])"
      ]
     },
     "execution_count": 64,
     "metadata": {},
     "output_type": "execute_result"
    }
   ],
   "source": [
    "arr[1:5]"
   ]
  },
  {
   "cell_type": "code",
   "execution_count": 67,
   "id": "d2daf36b",
   "metadata": {},
   "outputs": [
    {
     "data": {
      "text/plain": [
       "array([3, 6])"
      ]
     },
     "execution_count": 67,
     "metadata": {},
     "output_type": "execute_result"
    }
   ],
   "source": [
    "arr1[0:3, 2]"
   ]
  },
  {
   "cell_type": "code",
   "execution_count": 71,
   "id": "817b7ec1",
   "metadata": {},
   "outputs": [
    {
     "data": {
      "text/plain": [
       "array([1, 4, 3])"
      ]
     },
     "execution_count": 71,
     "metadata": {},
     "output_type": "execute_result"
    }
   ],
   "source": [
    "arr[:77]"
   ]
  },
  {
   "cell_type": "code",
   "execution_count": 83,
   "id": "95910916",
   "metadata": {},
   "outputs": [
    {
     "data": {
      "text/plain": [
       "array([1, 2, 3])"
      ]
     },
     "execution_count": 83,
     "metadata": {},
     "output_type": "execute_result"
    }
   ],
   "source": [
    "arr1[0,:]"
   ]
  },
  {
   "cell_type": "code",
   "execution_count": 91,
   "id": "f06c27b6",
   "metadata": {},
   "outputs": [
    {
     "data": {
      "text/plain": [
       "array([ True, False,  True])"
      ]
     },
     "execution_count": 91,
     "metadata": {},
     "output_type": "execute_result"
    }
   ],
   "source": [
    "arr<4"
   ]
  },
  {
   "cell_type": "code",
   "execution_count": 93,
   "id": "3e019a76",
   "metadata": {},
   "outputs": [
    {
     "data": {
      "text/plain": [
       "array([[ True,  True, False],\n",
       "       [False, False, False]])"
      ]
     },
     "execution_count": 93,
     "metadata": {},
     "output_type": "execute_result"
    }
   ],
   "source": [
    "(arr1<3) & (arr2>5)"
   ]
  },
  {
   "cell_type": "code",
   "execution_count": 97,
   "id": "fa88a786",
   "metadata": {},
   "outputs": [
    {
     "name": "stdout",
     "output_type": "stream",
     "text": [
      "[-2 -5 -4]\n"
     ]
    }
   ],
   "source": [
    "~arr\n",
    "print(~arr)"
   ]
  },
  {
   "cell_type": "code",
   "execution_count": 100,
   "id": "bdf5d3b9",
   "metadata": {},
   "outputs": [
    {
     "data": {
      "text/plain": [
       "array([1])"
      ]
     },
     "execution_count": 100,
     "metadata": {},
     "output_type": "execute_result"
    }
   ],
   "source": [
    "arr[arr<2]"
   ]
  },
  {
   "cell_type": "code",
   "execution_count": 105,
   "id": "ac794ccb",
   "metadata": {},
   "outputs": [
    {
     "data": {
      "text/plain": [
       "array([[ True, False, False],\n",
       "       [False, False, False]])"
      ]
     },
     "execution_count": 105,
     "metadata": {},
     "output_type": "execute_result"
    }
   ],
   "source": [
    "(arr1<2) | (arr2>40)"
   ]
  },
  {
   "cell_type": "code",
   "execution_count": 107,
   "id": "f11a8d36",
   "metadata": {},
   "outputs": [
    {
     "data": {
      "text/plain": [
       "array([5, 8, 7])"
      ]
     },
     "execution_count": 107,
     "metadata": {},
     "output_type": "execute_result"
    }
   ],
   "source": [
    "np.add(arr, 4)"
   ]
  },
  {
   "cell_type": "code",
   "execution_count": 109,
   "id": "98a6720a",
   "metadata": {},
   "outputs": [
    {
     "data": {
      "text/plain": [
       "array([-2,  1,  0])"
      ]
     },
     "execution_count": 109,
     "metadata": {},
     "output_type": "execute_result"
    }
   ],
   "source": [
    "np.subtract(arr, 3)"
   ]
  },
  {
   "cell_type": "code",
   "execution_count": 111,
   "id": "88402726",
   "metadata": {},
   "outputs": [
    {
     "data": {
      "text/plain": [
       "array([ 3, 12,  9])"
      ]
     },
     "execution_count": 111,
     "metadata": {},
     "output_type": "execute_result"
    }
   ],
   "source": [
    "np.multiply(arr, 3)"
   ]
  },
  {
   "cell_type": "code",
   "execution_count": 113,
   "id": "3fbee498",
   "metadata": {},
   "outputs": [
    {
     "data": {
      "text/plain": [
       "array([0.25, 1.  , 0.75])"
      ]
     },
     "execution_count": 113,
     "metadata": {},
     "output_type": "execute_result"
    }
   ],
   "source": [
    "np.divide(arr, 4)"
   ]
  },
  {
   "cell_type": "code",
   "execution_count": 117,
   "id": "ae42dcea",
   "metadata": {},
   "outputs": [
    {
     "data": {
      "text/plain": [
       "array([   1, 1024,  243])"
      ]
     },
     "execution_count": 117,
     "metadata": {},
     "output_type": "execute_result"
    }
   ],
   "source": [
    "np.power(arr, 5)"
   ]
  },
  {
   "cell_type": "code",
   "execution_count": 119,
   "id": "2d89d9b2",
   "metadata": {},
   "outputs": [
    {
     "data": {
      "text/plain": [
       "array([[ 8, 10, 12],\n",
       "       [14, 16, 18]])"
      ]
     },
     "execution_count": 119,
     "metadata": {},
     "output_type": "execute_result"
    }
   ],
   "source": [
    "np.add(arr1, arr2)"
   ]
  },
  {
   "cell_type": "code",
   "execution_count": 121,
   "id": "014597d5",
   "metadata": {},
   "outputs": [
    {
     "data": {
      "text/plain": [
       "array([[-6, -6, -6],\n",
       "       [-6, -6, -6]])"
      ]
     },
     "execution_count": 121,
     "metadata": {},
     "output_type": "execute_result"
    }
   ],
   "source": [
    "np.subtract(arr1,arr2)"
   ]
  },
  {
   "cell_type": "code",
   "execution_count": 123,
   "id": "7e6f763a",
   "metadata": {},
   "outputs": [
    {
     "data": {
      "text/plain": [
       "array([[ 7, 16, 27],\n",
       "       [40, 55, 72]])"
      ]
     },
     "execution_count": 123,
     "metadata": {},
     "output_type": "execute_result"
    }
   ],
   "source": [
    "np.multiply(arr1,arr2)"
   ]
  },
  {
   "cell_type": "code",
   "execution_count": 125,
   "id": "0744e8f6",
   "metadata": {},
   "outputs": [
    {
     "data": {
      "text/plain": [
       "array([[0.14285714, 0.25      , 0.33333333],\n",
       "       [0.4       , 0.45454545, 0.5       ]])"
      ]
     },
     "execution_count": 125,
     "metadata": {},
     "output_type": "execute_result"
    }
   ],
   "source": [
    "np.divide(arr1,arr2)"
   ]
  },
  {
   "cell_type": "code",
   "execution_count": 126,
   "id": "7e8a68bf",
   "metadata": {},
   "outputs": [
    {
     "data": {
      "text/plain": [
       "array([[         1,        256,      19683],\n",
       "       [   1048576,   48828125, 2176782336]])"
      ]
     },
     "execution_count": 126,
     "metadata": {},
     "output_type": "execute_result"
    }
   ],
   "source": [
    "np.power(arr1,arr2)"
   ]
  },
  {
   "cell_type": "code",
   "execution_count": 128,
   "id": "da4de932",
   "metadata": {},
   "outputs": [
    {
     "data": {
      "text/plain": [
       "False"
      ]
     },
     "execution_count": 128,
     "metadata": {},
     "output_type": "execute_result"
    }
   ],
   "source": [
    "np.array_equal(arr1,arr2)"
   ]
  },
  {
   "cell_type": "code",
   "execution_count": 131,
   "id": "4942a888",
   "metadata": {},
   "outputs": [
    {
     "data": {
      "text/plain": [
       "array([1.        , 2.        , 1.73205081])"
      ]
     },
     "execution_count": 131,
     "metadata": {},
     "output_type": "execute_result"
    }
   ],
   "source": [
    "np.sqrt(arr)"
   ]
  },
  {
   "cell_type": "code",
   "execution_count": 133,
   "id": "3a4146e9",
   "metadata": {},
   "outputs": [
    {
     "data": {
      "text/plain": [
       "array([ 0.84147098, -0.7568025 ,  0.14112001])"
      ]
     },
     "execution_count": 133,
     "metadata": {},
     "output_type": "execute_result"
    }
   ],
   "source": [
    "np.sin(arr)"
   ]
  },
  {
   "cell_type": "code",
   "execution_count": 136,
   "id": "5e0e3ab4",
   "metadata": {},
   "outputs": [
    {
     "data": {
      "text/plain": [
       "array([1, 4, 3])"
      ]
     },
     "execution_count": 136,
     "metadata": {},
     "output_type": "execute_result"
    }
   ],
   "source": [
    "np.abs(arr)"
   ]
  },
  {
   "cell_type": "code",
   "execution_count": 137,
   "id": "f407905b",
   "metadata": {},
   "outputs": [
    {
     "data": {
      "text/plain": [
       "array([1, 4, 3])"
      ]
     },
     "execution_count": 137,
     "metadata": {},
     "output_type": "execute_result"
    }
   ],
   "source": [
    "np.ceil(arr)"
   ]
  },
  {
   "cell_type": "code",
   "execution_count": 139,
   "id": "db134806",
   "metadata": {},
   "outputs": [
    {
     "data": {
      "text/plain": [
       "array([1, 4, 3])"
      ]
     },
     "execution_count": 139,
     "metadata": {},
     "output_type": "execute_result"
    }
   ],
   "source": [
    "np.floor(arr)"
   ]
  },
  {
   "cell_type": "code",
   "execution_count": 146,
   "id": "b6618574",
   "metadata": {},
   "outputs": [
    {
     "data": {
      "text/plain": [
       "np.float64(2.6666666666666665)"
      ]
     },
     "execution_count": 146,
     "metadata": {},
     "output_type": "execute_result"
    }
   ],
   "source": [
    "np.mean(arr)"
   ]
  },
  {
   "cell_type": "code",
   "execution_count": 149,
   "id": "262f2559",
   "metadata": {},
   "outputs": [
    {
     "data": {
      "text/plain": [
       "np.int64(8)"
      ]
     },
     "execution_count": 149,
     "metadata": {},
     "output_type": "execute_result"
    }
   ],
   "source": [
    "arr.sum()"
   ]
  },
  {
   "cell_type": "code",
   "execution_count": 151,
   "id": "37249826",
   "metadata": {},
   "outputs": [
    {
     "data": {
      "text/plain": [
       "np.int64(1)"
      ]
     },
     "execution_count": 151,
     "metadata": {},
     "output_type": "execute_result"
    }
   ],
   "source": [
    "arr.min()"
   ]
  },
  {
   "cell_type": "code",
   "execution_count": 153,
   "id": "a5459164",
   "metadata": {},
   "outputs": [
    {
     "data": {
      "text/plain": [
       "np.int64(4)"
      ]
     },
     "execution_count": 153,
     "metadata": {},
     "output_type": "execute_result"
    }
   ],
   "source": [
    "arr.max()"
   ]
  },
  {
   "cell_type": "code",
   "execution_count": 159,
   "id": "2a1dfc72",
   "metadata": {},
   "outputs": [
    {
     "data": {
      "text/plain": [
       "np.float64(1.5555555555555556)"
      ]
     },
     "execution_count": 159,
     "metadata": {},
     "output_type": "execute_result"
    }
   ],
   "source": [
    "np.var(arr, axis=0)"
   ]
  },
  {
   "cell_type": "code",
   "execution_count": 161,
   "id": "e58b4ef8",
   "metadata": {},
   "outputs": [
    {
     "data": {
      "text/plain": [
       "np.float64(1.247219128924647)"
      ]
     },
     "execution_count": 161,
     "metadata": {},
     "output_type": "execute_result"
    }
   ],
   "source": [
    "np.std(arr)"
   ]
  },
  {
   "cell_type": "code",
   "execution_count": null,
   "id": "3f4556d3",
   "metadata": {},
   "outputs": [
    {
     "ename": "AttributeError",
     "evalue": "'numpy.ndarray' object has no attribute 'corrcoef'",
     "output_type": "error",
     "traceback": [
      "\u001b[31m---------------------------------------------------------------------------\u001b[39m",
      "\u001b[31mAttributeError\u001b[39m                            Traceback (most recent call last)",
      "\u001b[36mCell\u001b[39m\u001b[36m \u001b[39m\u001b[32mIn[163]\u001b[39m\u001b[32m, line 1\u001b[39m\n\u001b[32m----> \u001b[39m\u001b[32m1\u001b[39m \u001b[43marr\u001b[49m\u001b[43m.\u001b[49m\u001b[43mcorrcoef\u001b[49m(arr)\n",
      "\u001b[31mAttributeError\u001b[39m: 'numpy.ndarray' object has no attribute 'corrcoef'"
     ]
    }
   ],
   "source": [
    "arr.corrcoef()"
   ]
  }
 ],
 "metadata": {
  "kernelspec": {
   "display_name": "Python 3",
   "language": "python",
   "name": "python3"
  },
  "language_info": {
   "codemirror_mode": {
    "name": "ipython",
    "version": 3
   },
   "file_extension": ".py",
   "mimetype": "text/x-python",
   "name": "python",
   "nbconvert_exporter": "python",
   "pygments_lexer": "ipython3",
   "version": "3.13.3"
  }
 },
 "nbformat": 4,
 "nbformat_minor": 5
}
